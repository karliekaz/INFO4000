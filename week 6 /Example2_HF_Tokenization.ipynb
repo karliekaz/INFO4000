{
 "cells": [
  {
   "cell_type": "markdown",
   "id": "3603fb4c-2f20-426b-9ce1-3084739b6b8e",
   "metadata": {},
   "source": [
    "#### HF Tokenizers ####"
   ]
  },
  {
   "cell_type": "code",
   "execution_count": 1,
   "id": "60e67e60-86e7-4b14-9187-3018ecac9ac2",
   "metadata": {
    "jupyter": {
     "source_hidden": true
    },
    "tags": []
   },
   "outputs": [
    {
     "name": "stderr",
     "output_type": "stream",
     "text": [
      "/Users/karliekaz/miniconda3/lib/python3.10/site-packages/tqdm/auto.py:21: TqdmWarning: IProgress not found. Please update jupyter and ipywidgets. See https://ipywidgets.readthedocs.io/en/stable/user_install.html\n",
      "  from .autonotebook import tqdm as notebook_tqdm\n"
     ]
    }
   ],
   "source": [
    "from transformers import AutoTokenizer"
   ]
  },
  {
   "cell_type": "markdown",
   "id": "360ad8bb-7621-4af1-8859-d48e5c23209d",
   "metadata": {
    "jupyter": {
     "source_hidden": true
    },
    "tags": []
   },
   "source": [
    "##### Encoding #####"
   ]
  },
  {
   "cell_type": "code",
   "execution_count": 2,
   "id": "e5221c1c-f655-40a0-9d02-f804ccbb15bc",
   "metadata": {
    "jupyter": {
     "source_hidden": true
    },
    "tags": []
   },
   "outputs": [
    {
     "name": "stderr",
     "output_type": "stream",
     "text": [
      "Downloading (…)okenizer_config.json: 100%|██████████| 29.0/29.0 [00:00<00:00, 75.3kB/s]\n",
      "Downloading (…)lve/main/config.json: 100%|██████████| 570/570 [00:00<00:00, 1.74MB/s]\n",
      "Downloading (…)solve/main/vocab.txt: 100%|██████████| 213k/213k [00:00<00:00, 668kB/s]\n",
      "Downloading (…)/main/tokenizer.json: 100%|██████████| 436k/436k [00:00<00:00, 7.33MB/s]\n"
     ]
    },
    {
     "name": "stdout",
     "output_type": "stream",
     "text": [
      "['Using', 'a', 'Trans', '##former', 'network', 'is', 'simple']\n"
     ]
    }
   ],
   "source": [
    "# This tokenizer is a subword tokenizer: it splits the words until it obtains tokens that can be represented by its vocabulary. # That’s the case here with transformer, which is split into two tokens: transform and ##er.\n",
    "\n",
    "tokenizer = AutoTokenizer.from_pretrained(\"bert-base-cased\")\n",
    "\n",
    "sequence = \"Using a Transformer network is simple\"\n",
    "tokens = tokenizer.tokenize(sequence)\n",
    "\n",
    "print(tokens)\n",
    "\n",
    "# ##former is specifc to the model - it is subword "
   ]
  },
  {
   "cell_type": "code",
   "execution_count": 3,
   "id": "4657453e-1432-43a4-b562-04894e1047fa",
   "metadata": {
    "jupyter": {
     "source_hidden": true
    },
    "tags": []
   },
   "outputs": [
    {
     "name": "stdout",
     "output_type": "stream",
     "text": [
      "These outputs, once converted to the appropriate framework tensor, can then be used as inputs to a model:\n",
      "[7993, 170, 13809, 23763, 2443, 1110, 3014]\n"
     ]
    }
   ],
   "source": [
    "# The conversion to input IDs is handled by the convert_tokens_to_ids() tokenizer method:\n",
    "\n",
    "ids = tokenizer.convert_tokens_to_ids(tokens)\n",
    "\n",
    "print(f\"These outputs, once converted to the appropriate framework tensor, can then be used as inputs to a model:\\n{ids}\")"
   ]
  },
  {
   "cell_type": "markdown",
   "id": "0af786e4-471e-441c-ae2c-c7437040815e",
   "metadata": {
    "jupyter": {
     "source_hidden": true
    },
    "tags": []
   },
   "source": [
    "##### Decoding #####\n",
    "\n",
    "Decoding is going the other way around: from vocabulary indices, we want to get a string. \n",
    "\n",
    "This can be done with the decode() method as follows:"
   ]
  },
  {
   "cell_type": "code",
   "execution_count": 5,
   "id": "6dac0b46-6041-48f6-9852-4bef206076cf",
   "metadata": {
    "jupyter": {
     "source_hidden": true
    },
    "tags": []
   },
   "outputs": [
    {
     "ename": "ImportError",
     "evalue": "dlopen(/Users/karliekaz/miniconda3/lib/python3.10/site-packages/torch/_C.cpython-310-darwin.so, 0x0002): Library not loaded: @rpath/libtorch_cpu.dylib\n  Referenced from: /Users/karliekaz/miniconda3/lib/python3.10/site-packages/torch/lib/libtorch_python.dylib\n  Reason: tried: '/Users/karliekaz/miniconda3/lib/python3.10/site-packages/torch/lib/libtorch_cpu.dylib' (no such file), '/Users/runner/work/_temp/anaconda/envs/wheel_py310/lib/libtorch_cpu.dylib' (no such file), '/Users/runner/work/_temp/anaconda/envs/wheel_py310/lib/libtorch_cpu.dylib' (no such file), '/Users/karliekaz/miniconda3/lib/python3.10/site-packages/torch/lib/libtorch_cpu.dylib' (no such file), '/Users/runner/work/_temp/anaconda/envs/wheel_py310/lib/libtorch_cpu.dylib' (no such file), '/Users/runner/work/_temp/anaconda/envs/wheel_py310/lib/libtorch_cpu.dylib' (no such file), '/Users/karliekaz/miniconda3/lib/python3.10/site-packages/torch/lib/libtorch_cpu.dylib' (no such file), '/Users/karliekaz/miniconda3/bin/../lib/libtorch_cpu.dylib' (no such file), '/Users/karliekaz/miniconda3/bin/../lib/libtorch_cpu.dylib' (no such file), '/usr/local/lib/libtorch_cpu.dylib' (no such file), '/usr/lib/libtorch_cpu.dylib' (no such file)",
     "output_type": "error",
     "traceback": [
      "\u001b[0;31m---------------------------------------------------------------------------\u001b[0m",
      "\u001b[0;31mImportError\u001b[0m                               Traceback (most recent call last)",
      "Cell \u001b[0;32mIn[5], line 1\u001b[0m\n\u001b[0;32m----> 1\u001b[0m decoded_string \u001b[39m=\u001b[39m tokenizer\u001b[39m.\u001b[39;49mdecode([\u001b[39m7993\u001b[39;49m, \u001b[39m170\u001b[39;49m, \u001b[39m11303\u001b[39;49m, \u001b[39m1200\u001b[39;49m, \u001b[39m2443\u001b[39;49m, \u001b[39m1110\u001b[39;49m, \u001b[39m3014\u001b[39;49m])\n\u001b[1;32m      2\u001b[0m \u001b[39mprint\u001b[39m(decoded_string)\n",
      "File \u001b[0;32m~/miniconda3/lib/python3.10/site-packages/transformers/tokenization_utils_base.py:3548\u001b[0m, in \u001b[0;36mPreTrainedTokenizerBase.decode\u001b[0;34m(self, token_ids, skip_special_tokens, clean_up_tokenization_spaces, **kwargs)\u001b[0m\n\u001b[1;32m   3527\u001b[0m \u001b[39m\"\"\"\u001b[39;00m\n\u001b[1;32m   3528\u001b[0m \u001b[39mConverts a sequence of ids in a string, using the tokenizer and vocabulary with options to remove special\u001b[39;00m\n\u001b[1;32m   3529\u001b[0m \u001b[39mtokens and clean up tokenization spaces.\u001b[39;00m\n\u001b[0;32m   (...)\u001b[0m\n\u001b[1;32m   3545\u001b[0m \u001b[39m    `str`: The decoded sentence.\u001b[39;00m\n\u001b[1;32m   3546\u001b[0m \u001b[39m\"\"\"\u001b[39;00m\n\u001b[1;32m   3547\u001b[0m \u001b[39m# Convert inputs to python lists\u001b[39;00m\n\u001b[0;32m-> 3548\u001b[0m token_ids \u001b[39m=\u001b[39m to_py_obj(token_ids)\n\u001b[1;32m   3550\u001b[0m \u001b[39mreturn\u001b[39;00m \u001b[39mself\u001b[39m\u001b[39m.\u001b[39m_decode(\n\u001b[1;32m   3551\u001b[0m     token_ids\u001b[39m=\u001b[39mtoken_ids,\n\u001b[1;32m   3552\u001b[0m     skip_special_tokens\u001b[39m=\u001b[39mskip_special_tokens,\n\u001b[1;32m   3553\u001b[0m     clean_up_tokenization_spaces\u001b[39m=\u001b[39mclean_up_tokenization_spaces,\n\u001b[1;32m   3554\u001b[0m     \u001b[39m*\u001b[39m\u001b[39m*\u001b[39mkwargs,\n\u001b[1;32m   3555\u001b[0m )\n",
      "File \u001b[0;32m~/miniconda3/lib/python3.10/site-packages/transformers/utils/generic.py:247\u001b[0m, in \u001b[0;36mto_py_obj\u001b[0;34m(obj)\u001b[0m\n\u001b[1;32m    245\u001b[0m     \u001b[39mreturn\u001b[39;00m {k: to_py_obj(v) \u001b[39mfor\u001b[39;00m k, v \u001b[39min\u001b[39;00m obj\u001b[39m.\u001b[39mitems()}\n\u001b[1;32m    246\u001b[0m \u001b[39melif\u001b[39;00m \u001b[39misinstance\u001b[39m(obj, (\u001b[39mlist\u001b[39m, \u001b[39mtuple\u001b[39m)):\n\u001b[0;32m--> 247\u001b[0m     \u001b[39mreturn\u001b[39;00m [to_py_obj(o) \u001b[39mfor\u001b[39;00m o \u001b[39min\u001b[39;00m obj]\n\u001b[1;32m    249\u001b[0m \u001b[39m# This gives us a smart order to test the frameworks with the corresponding tests.\u001b[39;00m\n\u001b[1;32m    250\u001b[0m framework_to_test_func \u001b[39m=\u001b[39m _get_frameworks_and_test_func(obj)\n",
      "File \u001b[0;32m~/miniconda3/lib/python3.10/site-packages/transformers/utils/generic.py:247\u001b[0m, in \u001b[0;36m<listcomp>\u001b[0;34m(.0)\u001b[0m\n\u001b[1;32m    245\u001b[0m     \u001b[39mreturn\u001b[39;00m {k: to_py_obj(v) \u001b[39mfor\u001b[39;00m k, v \u001b[39min\u001b[39;00m obj\u001b[39m.\u001b[39mitems()}\n\u001b[1;32m    246\u001b[0m \u001b[39melif\u001b[39;00m \u001b[39misinstance\u001b[39m(obj, (\u001b[39mlist\u001b[39m, \u001b[39mtuple\u001b[39m)):\n\u001b[0;32m--> 247\u001b[0m     \u001b[39mreturn\u001b[39;00m [to_py_obj(o) \u001b[39mfor\u001b[39;00m o \u001b[39min\u001b[39;00m obj]\n\u001b[1;32m    249\u001b[0m \u001b[39m# This gives us a smart order to test the frameworks with the corresponding tests.\u001b[39;00m\n\u001b[1;32m    250\u001b[0m framework_to_test_func \u001b[39m=\u001b[39m _get_frameworks_and_test_func(obj)\n",
      "File \u001b[0;32m~/miniconda3/lib/python3.10/site-packages/transformers/utils/generic.py:252\u001b[0m, in \u001b[0;36mto_py_obj\u001b[0;34m(obj)\u001b[0m\n\u001b[1;32m    250\u001b[0m framework_to_test_func \u001b[39m=\u001b[39m _get_frameworks_and_test_func(obj)\n\u001b[1;32m    251\u001b[0m \u001b[39mfor\u001b[39;00m framework, test_func \u001b[39min\u001b[39;00m framework_to_test_func\u001b[39m.\u001b[39mitems():\n\u001b[0;32m--> 252\u001b[0m     \u001b[39mif\u001b[39;00m test_func(obj):\n\u001b[1;32m    253\u001b[0m         \u001b[39mreturn\u001b[39;00m framework_to_py_obj[framework](obj)\n\u001b[1;32m    255\u001b[0m \u001b[39m# tolist also works on 0d np arrays\u001b[39;00m\n",
      "File \u001b[0;32m~/miniconda3/lib/python3.10/site-packages/transformers/utils/generic.py:155\u001b[0m, in \u001b[0;36mis_torch_tensor\u001b[0;34m(x)\u001b[0m\n\u001b[1;32m    151\u001b[0m \u001b[39mdef\u001b[39;00m \u001b[39mis_torch_tensor\u001b[39m(x):\n\u001b[1;32m    152\u001b[0m     \u001b[39m\"\"\"\u001b[39;00m\n\u001b[1;32m    153\u001b[0m \u001b[39m    Tests if `x` is a torch tensor or not. Safe to call even if torch is not installed.\u001b[39;00m\n\u001b[1;32m    154\u001b[0m \u001b[39m    \"\"\"\u001b[39;00m\n\u001b[0;32m--> 155\u001b[0m     \u001b[39mreturn\u001b[39;00m \u001b[39mFalse\u001b[39;00m \u001b[39mif\u001b[39;00m \u001b[39mnot\u001b[39;00m is_torch_available() \u001b[39melse\u001b[39;00m _is_torch(x)\n",
      "File \u001b[0;32m~/miniconda3/lib/python3.10/site-packages/transformers/utils/generic.py:146\u001b[0m, in \u001b[0;36m_is_torch\u001b[0;34m(x)\u001b[0m\n\u001b[1;32m    145\u001b[0m \u001b[39mdef\u001b[39;00m \u001b[39m_is_torch\u001b[39m(x):\n\u001b[0;32m--> 146\u001b[0m     \u001b[39mimport\u001b[39;00m \u001b[39mtorch\u001b[39;00m\n\u001b[1;32m    148\u001b[0m     \u001b[39mreturn\u001b[39;00m \u001b[39misinstance\u001b[39m(x, torch\u001b[39m.\u001b[39mTensor)\n",
      "File \u001b[0;32m~/miniconda3/lib/python3.10/site-packages/torch/__init__.py:229\u001b[0m\n\u001b[1;32m    227\u001b[0m     \u001b[39mif\u001b[39;00m USE_GLOBAL_DEPS:\n\u001b[1;32m    228\u001b[0m         _load_global_deps()\n\u001b[0;32m--> 229\u001b[0m     \u001b[39mfrom\u001b[39;00m \u001b[39mtorch\u001b[39;00m\u001b[39m.\u001b[39;00m\u001b[39m_C\u001b[39;00m \u001b[39mimport\u001b[39;00m \u001b[39m*\u001b[39m  \u001b[39m# noqa: F403\u001b[39;00m\n\u001b[1;32m    231\u001b[0m \u001b[39m# Appease the type checker; ordinarily this binding is inserted by the\u001b[39;00m\n\u001b[1;32m    232\u001b[0m \u001b[39m# torch._C module initialization code in C\u001b[39;00m\n\u001b[1;32m    233\u001b[0m \u001b[39mif\u001b[39;00m TYPE_CHECKING:\n",
      "\u001b[0;31mImportError\u001b[0m: dlopen(/Users/karliekaz/miniconda3/lib/python3.10/site-packages/torch/_C.cpython-310-darwin.so, 0x0002): Library not loaded: @rpath/libtorch_cpu.dylib\n  Referenced from: /Users/karliekaz/miniconda3/lib/python3.10/site-packages/torch/lib/libtorch_python.dylib\n  Reason: tried: '/Users/karliekaz/miniconda3/lib/python3.10/site-packages/torch/lib/libtorch_cpu.dylib' (no such file), '/Users/runner/work/_temp/anaconda/envs/wheel_py310/lib/libtorch_cpu.dylib' (no such file), '/Users/runner/work/_temp/anaconda/envs/wheel_py310/lib/libtorch_cpu.dylib' (no such file), '/Users/karliekaz/miniconda3/lib/python3.10/site-packages/torch/lib/libtorch_cpu.dylib' (no such file), '/Users/runner/work/_temp/anaconda/envs/wheel_py310/lib/libtorch_cpu.dylib' (no such file), '/Users/runner/work/_temp/anaconda/envs/wheel_py310/lib/libtorch_cpu.dylib' (no such file), '/Users/karliekaz/miniconda3/lib/python3.10/site-packages/torch/lib/libtorch_cpu.dylib' (no such file), '/Users/karliekaz/miniconda3/bin/../lib/libtorch_cpu.dylib' (no such file), '/Users/karliekaz/miniconda3/bin/../lib/libtorch_cpu.dylib' (no such file), '/usr/local/lib/libtorch_cpu.dylib' (no such file), '/usr/lib/libtorch_cpu.dylib' (no such file)"
     ]
    }
   ],
   "source": [
    "decoded_string = tokenizer.decode([7993, 170, 11303, 1200, 2443, 1110, 3014])\n",
    "print(decoded_string)"
   ]
  },
  {
   "cell_type": "markdown",
   "id": "763d7ffe-3d24-433d-a406-403d9a6d1df5",
   "metadata": {
    "jupyter": {
     "source_hidden": true
    },
    "tags": []
   },
   "source": [
    "Note that the decode method not only converts the indices back to tokens, but also groups together the tokens that were part of the same words to produce a readable sentence. This behavior will be extremely useful when we use models that predict new text (either text generated from a prompt, or for sequence-to-sequence problems like translation or summarization)."
   ]
  },
  {
   "cell_type": "code",
   "execution_count": null,
   "id": "636645dc-4602-4c60-9a6c-6356d53b8664",
   "metadata": {},
   "outputs": [],
   "source": []
  }
 ],
 "metadata": {
  "kernelspec": {
   "display_name": "base",
   "language": "python",
   "name": "python3"
  },
  "language_info": {
   "codemirror_mode": {
    "name": "ipython",
    "version": 3
   },
   "file_extension": ".py",
   "mimetype": "text/x-python",
   "name": "python",
   "nbconvert_exporter": "python",
   "pygments_lexer": "ipython3",
   "version": "3.10.8"
  }
 },
 "nbformat": 4,
 "nbformat_minor": 5
}
