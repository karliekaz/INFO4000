{
 "cells": [
  {
   "cell_type": "markdown",
   "metadata": {},
   "source": [
    "#### Exercise 5 Solution"
   ]
  },
  {
   "cell_type": "code",
   "execution_count": 4,
   "metadata": {},
   "outputs": [
    {
     "data": {
      "text/plain": [
       "<torch._C.Generator at 0x293ff19fdd0>"
      ]
     },
     "execution_count": 4,
     "metadata": {},
     "output_type": "execute_result"
    }
   ],
   "source": [
    "import numpy as np\n",
    "import torch\n",
    "from matplotlib import pyplot as plt\n",
    "import torch.optim as optim\n",
    "import torch.nn as nn\n",
    "import torch.nn.functional as F\n",
    "from torch.utils.data import Dataset,DataLoader\n",
    "from torch.utils.data.dataset import random_split,TensorDataset\n",
    "import torchvision.transforms as transforms\n",
    "from torchvision.models import vgg16,VGG16_Weights\n",
    "from torchsummary import summary\n",
    "import os\n",
    "import pandas as pd\n",
    "from PIL import Image\n",
    "from skimage import io,transform,color\n",
    "\n",
    "from PIL import Image\n",
    "\n",
    "torch.manual_seed(1)"
   ]
  },
  {
   "cell_type": "code",
   "execution_count": 5,
   "metadata": {},
   "outputs": [
    {
     "name": "stdout",
     "output_type": "stream",
     "text": [
      "cuda\n"
     ]
    }
   ],
   "source": [
    "device = 'cuda' if torch.cuda.is_available() else 'cpu'\n",
    "print(device)"
   ]
  },
  {
   "cell_type": "code",
   "execution_count": 6,
   "metadata": {},
   "outputs": [],
   "source": [
    "# Image paths and labels\n",
    "\n",
    "train = './Mnist_Image_Data/Mnist_Image_Data/Images/train/'\n",
    "test = './Mnist_Image_Data/Mnist_Image_Data/Images/test/'\n",
    "\n",
    "train_label = pd.read_csv('./Mnist_Image_Data/Mnist_Image_Data/train.csv')\n",
    "test_label = pd.read_csv('./Mnist_Image_Data/Mnist_Image_Data/test.csv')"
   ]
  },
  {
   "cell_type": "code",
   "execution_count": 7,
   "metadata": {},
   "outputs": [],
   "source": [
    "# Setup pretrained VGG16 model\n",
    "\n",
    "weights = VGG16_Weights.DEFAULT\n",
    "preprocess = weights.transforms()\n",
    "\n",
    "model = vgg16(weights=weights)\n",
    "\n"
   ]
  },
  {
   "cell_type": "code",
   "execution_count": 8,
   "metadata": {},
   "outputs": [],
   "source": [
    "\n",
    "# Freeze the convolutional layers\n",
    "for param in model.features.parameters():\n",
    "    param.requires_grad = False\n",
    "\n",
    "# Modify the classifier layers for MNIST classification\n",
    "num_features = model.classifier[6].in_features\n",
    "model.classifier[6] = nn.Linear(num_features, 10)\n",
    "\n",
    "model = model.to(device)"
   ]
  },
  {
   "cell_type": "code",
   "execution_count": 9,
   "metadata": {},
   "outputs": [
    {
     "name": "stdout",
     "output_type": "stream",
     "text": [
      "ImageClassification(\n",
      "    crop_size=[224]\n",
      "    resize_size=[256]\n",
      "    mean=[0.485, 0.456, 0.406]\n",
      "    std=[0.229, 0.224, 0.225]\n",
      "    interpolation=InterpolationMode.BILINEAR\n",
      ")\n"
     ]
    }
   ],
   "source": [
    "print(preprocess)"
   ]
  },
  {
   "cell_type": "code",
   "execution_count": 10,
   "metadata": {},
   "outputs": [],
   "source": [
    "# Create the class to read in data by inheriting the PyTorch Dataset class\n",
    "\n",
    "class mnist(Dataset):\n",
    "\n",
    "    def __init__(self, img_path,labels,transforms=None):\n",
    "        self.img_path = img_path\n",
    "        self.labels = labels\n",
    "        self.transforms = transforms\n",
    "        \n",
    "\n",
    "    def __len__(self):\n",
    "        return len(self.labels)\n",
    "\n",
    "\n",
    "    def __getitem__(self,idx):\n",
    "\n",
    "        img = os.path.join(self.img_path+self.labels['filename'][idx])\n",
    "        img = Image.open(img).convert('L') # Convert to Grayscale from PNG\n",
    "        img = color.gray2rgb(img)          # Convert to RGB, 3-Ch color image to make it sutiable for VGG\n",
    "        img = transform.resize(img,(224,224))\n",
    "        \n",
    "        img = np.moveaxis(img,2,0)\n",
    "        \n",
    "        if self.transforms is not None:\n",
    "            img = self.transforms(img)\n",
    "        \n",
    "        label = self.labels['label'][idx]\n",
    "        label = label.astype('float')\n",
    "        label = np.array(label).reshape(-1,1)\n",
    "        \n",
    "        \n",
    "        return torch.from_numpy(img),torch.from_numpy(label)"
   ]
  },
  {
   "cell_type": "code",
   "execution_count": 11,
   "metadata": {},
   "outputs": [
    {
     "name": "stdout",
     "output_type": "stream",
     "text": [
      "49000 100\n",
      "tensor([[4.]], dtype=torch.float64) 100 torch.Size([3, 224, 224])\n"
     ]
    }
   ],
   "source": [
    "# Amount of data - train and test while testing the __len__ method\n",
    "\n",
    "train_data =  mnist(train,train_label)\n",
    "test_data =  mnist(test,test_label)\n",
    "print(train_data.__len__(),test_data.__len__())\n",
    "print(train_data[0][1],len(test_data),train_data[0][0].shape)"
   ]
  },
  {
   "cell_type": "code",
   "execution_count": 12,
   "metadata": {},
   "outputs": [
    {
     "name": "stdout",
     "output_type": "stream",
     "text": [
      "torch.Size([3, 224, 224]) <class 'torch.Tensor'> torch.Size([1, 1])\n",
      "(224, 224, 3)\n",
      "torch.Size([1, 1]) tensor([[9.]], dtype=torch.float64)\n"
     ]
    },
    {
     "data": {
      "image/png": "[encoded data removed]",
      "text/plain": [
       "<Figure size 640x480 with 1 Axes>"
      ]
     },
     "metadata": {},
     "output_type": "display_data"
    }
   ],
   "source": [
    "# Look at an image while testing the __getitem__ method\n",
    "\n",
    "image1,label1 = train_data.__getitem__(1)\n",
    "print(image1.shape,type(image1),label1.shape)\n",
    "image1 = np.array(image1)\n",
    "image1 = np.moveaxis(image1,0,2)\n",
    "#image1 = np.squeeze(image1)\n",
    "print(image1.shape)\n",
    "print(label1.shape,label1)\n",
    "io.imshow(image1)\n",
    "plt.show()"
   ]
  },
  {
   "cell_type": "code",
   "execution_count": 13,
   "metadata": {},
   "outputs": [],
   "source": [
    "# Dataloader to get batches\n",
    "\n",
    "train_loader = DataLoader(dataset=train_data, batch_size=32,shuffle=False)\n",
    "test_loader = DataLoader(dataset=test_data, batch_size=10,shuffle=False)\n",
    "#next(iter(train_loader))\n"
   ]
  },
  {
   "cell_type": "code",
   "execution_count": 14,
   "metadata": {},
   "outputs": [
    {
     "data": {
      "text/plain": [
       "(torch.Size([10, 3, 224, 224]), torch.Size([10, 1, 1]))"
      ]
     },
     "execution_count": 14,
     "metadata": {},
     "output_type": "execute_result"
    }
   ],
   "source": [
    "for i , (x_batch,y_batch) in enumerate(test_loader):     \n",
    "    break\n",
    "# x = x_batch[0].view(-1,1,28,28)\n",
    "# y = y_batch[0].view(-1,1)\n",
    "x_batch.shape,y_batch.shape"
   ]
  },
  {
   "cell_type": "code",
   "execution_count": 15,
   "metadata": {},
   "outputs": [],
   "source": [
    "# Loss and optimizer\n",
    "criterion = nn.CrossEntropyLoss()\n",
    "optimizer = optim.Adam(model.parameters(), lr=0.001)"
   ]
  },
  {
   "cell_type": "code",
   "execution_count": 16,
   "metadata": {
    "tags": []
   },
   "outputs": [
    {
     "name": "stdout",
     "output_type": "stream",
     "text": [
      "Epoch 1/1, Loss: 2.086160861836106e-07\n",
      "Accuracy: 99.0%\n"
     ]
    }
   ],
   "source": [
    "# Training loop\n",
    "num_epochs = 1\n",
    "for epoch in range(num_epochs):\n",
    "    model.train()\n",
    "    for batch_idx, (data, targets) in enumerate(train_loader):\n",
    "        targets = targets.type(torch.LongTensor)\n",
    "        data, targets = data.to(device), targets.to(device)\n",
    "        \n",
    "        # Forward pass\n",
    "        outputs = model(data.float())\n",
    "        \n",
    "        targets = targets.squeeze()\n",
    "        loss = criterion(outputs, targets)\n",
    "        \n",
    "        # Backward pass and optimizer\n",
    "        optimizer.zero_grad()\n",
    "        loss.backward()\n",
    "        optimizer.step()\n",
    "\n",
    "    print(f\"Epoch {epoch+1}/{num_epochs}, Loss: {loss.item()}\")\n",
    "\n",
    "# Evaluate\n",
    "model.eval()\n",
    "correct = 0\n",
    "total = 0\n",
    "with torch.no_grad():\n",
    "    for data, targets in test_loader:\n",
    "        data, targets = data.to(device), targets.to(device)\n",
    "        outputs = model(data.float())\n",
    "        _, predicted = torch.max(outputs.data, 1)  # Get class label from model's output\n",
    "        total += targets.size(0)\n",
    "        correct += (predicted == targets.squeeze()).sum().item()\n",
    "        \n",
    "\n",
    "print(f\"Accuracy: {100 * correct / total}%\")"
   ]
  }
 ],
 "metadata": {
  "kernelspec": {
   "display_name": "torch2_gpu",
   "language": "python",
   "name": "torch2_gpu"
  },
  "language_info": {
   "codemirror_mode": {
    "name": "ipython",
    "version": 3
   },
   "file_extension": ".py",
   "mimetype": "text/x-python",
   "name": "python",
   "nbconvert_exporter": "python",
   "pygments_lexer": "ipython3",
   "version": "3.11.5"
  }
 },
 "nbformat": 4,
 "nbformat_minor": 4
}
