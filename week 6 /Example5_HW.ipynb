{
 "cells": [
  {
   "cell_type": "code",
   "execution_count": 1,
   "metadata": {},
   "outputs": [],
   "source": [
    "import matplotlib.pyplot as plt\n",
    "import torch\n",
    "import torchvision\n",
    "from torch import nn\n",
    "from torchvision import transforms\n",
    "from torchinfo import summary"
   ]
  },
  {
   "cell_type": "code",
   "execution_count": 2,
   "metadata": {},
   "outputs": [],
   "source": [
    "import os\n",
    "import zipfile\n",
    "import shutil\n",
    "import pandas as pd\n",
    "from pathlib import Path\n",
    "\n",
    "import requests\n",
    "from helper_functions import set_seeds\n",
    "from torchvision.models import resnet18, ResNet18_Weights"
   ]
  },
  {
   "cell_type": "code",
   "execution_count": 3,
   "metadata": {},
   "outputs": [
    {
     "name": "stderr",
     "output_type": "stream",
     "text": [
      "/Users/karliekaz/miniconda3/lib/python3.10/site-packages/tqdm/auto.py:21: TqdmWarning: IProgress not found. Please update jupyter and ipywidgets. See https://ipywidgets.readthedocs.io/en/stable/user_install.html\n",
      "  from .autonotebook import tqdm as notebook_tqdm\n"
     ]
    }
   ],
   "source": [
    "try:\n",
    "    from torchinfo import summary\n",
    "except:\n",
    "    print(\"[INFO] Couldn't find torchinfo... installing it.\")\n",
    "    !pip install -q torchinfo\n",
    "    from torchinfo import summary\n",
    "\n",
    "# Try to import the going_modular directory, download it from GitHub if it doesn't work\n",
    "try:\n",
    "    from going_modular.going_modular import data_setup, engine\n",
    "except:\n",
    "    # Get the going_modular scripts\n",
    "    print(\"[INFO] Couldn't find going_modular scripts... downloading them from GitHub.\")\n",
    "    !git clone https://github.com/mrdbourke/pytorch-deep-learning\n",
    "    !mv pytorch-deep-learning/going_modular .\n",
    "    !rm -rf pytorch-deep-learning\n",
    "    from going_modular.going_modular import data_setup, engine"
   ]
  },
  {
   "cell_type": "code",
   "execution_count": 4,
   "metadata": {},
   "outputs": [
    {
     "data": {
      "text/plain": [
       "'cpu'"
      ]
     },
     "execution_count": 4,
     "metadata": {},
     "output_type": "execute_result"
    }
   ],
   "source": [
    "# Setup device agnostic code\n",
    "device = \"cuda\" if torch.cuda.is_available() else \"cpu\"\n",
    "device"
   ]
  },
  {
   "cell_type": "code",
   "execution_count": 5,
   "metadata": {},
   "outputs": [],
   "source": [
    "# Setup path to data folder\n",
    "data_path = Path(\"data/\")\n",
    "image_path = data_path / \"Mnist_Image_Data\"\n",
    "\n",
    "train_dir = image_path /\"Images\" / \"train\"\n",
    "test_dir = image_path / \"Images\"/ \"test\"\n"
   ]
  },
  {
   "cell_type": "code",
   "execution_count": 6,
   "metadata": {},
   "outputs": [
    {
     "ename": "FileNotFoundError",
     "evalue": "[Errno 2] No such file or directory: 'data/Mnist_Image_Data/Images/train/0.png'",
     "output_type": "error",
     "traceback": [
      "\u001b[0;31m---------------------------------------------------------------------------\u001b[0m",
      "\u001b[0;31mFileNotFoundError\u001b[0m                         Traceback (most recent call last)",
      "File \u001b[0;32m~/miniconda3/lib/python3.10/shutil.py:815\u001b[0m, in \u001b[0;36mmove\u001b[0;34m(src, dst, copy_function)\u001b[0m\n\u001b[1;32m    814\u001b[0m \u001b[39mtry\u001b[39;00m:\n\u001b[0;32m--> 815\u001b[0m     os\u001b[39m.\u001b[39;49mrename(src, real_dst)\n\u001b[1;32m    816\u001b[0m \u001b[39mexcept\u001b[39;00m \u001b[39mOSError\u001b[39;00m:\n",
      "\u001b[0;31mFileNotFoundError\u001b[0m: [Errno 2] No such file or directory: 'data/Mnist_Image_Data/Images/train/0.png' -> 'data/Mnist_Image_Data/Images/train/4/0.png'",
      "\nDuring handling of the above exception, another exception occurred:\n",
      "\u001b[0;31mFileNotFoundError\u001b[0m                         Traceback (most recent call last)",
      "Cell \u001b[0;32mIn[6], line 28\u001b[0m\n\u001b[1;32m     24\u001b[0m destination_path_train \u001b[39m=\u001b[39m os\u001b[39m.\u001b[39mpath\u001b[39m.\u001b[39mjoin(destination_folder_train, \u001b[39mstr\u001b[39m(label_value), feature_value)\n\u001b[1;32m     26\u001b[0m \u001b[39mif\u001b[39;00m feature_value \u001b[39mnot\u001b[39;00m \u001b[39min\u001b[39;00m moved_files:\n\u001b[1;32m     27\u001b[0m \u001b[39m# Move the data point to the destination folder.\u001b[39;00m\n\u001b[0;32m---> 28\u001b[0m     shutil\u001b[39m.\u001b[39;49mmove(source_path_train, destination_path_train)\n\u001b[1;32m     29\u001b[0m     moved_files\u001b[39m.\u001b[39madd(feature_value)\n\u001b[1;32m     30\u001b[0m \u001b[39melse\u001b[39;00m:\n",
      "File \u001b[0;32m~/miniconda3/lib/python3.10/shutil.py:835\u001b[0m, in \u001b[0;36mmove\u001b[0;34m(src, dst, copy_function)\u001b[0m\n\u001b[1;32m    833\u001b[0m         rmtree(src)\n\u001b[1;32m    834\u001b[0m     \u001b[39melse\u001b[39;00m:\n\u001b[0;32m--> 835\u001b[0m         copy_function(src, real_dst)\n\u001b[1;32m    836\u001b[0m         os\u001b[39m.\u001b[39munlink(src)\n\u001b[1;32m    837\u001b[0m \u001b[39mreturn\u001b[39;00m real_dst\n",
      "File \u001b[0;32m~/miniconda3/lib/python3.10/shutil.py:434\u001b[0m, in \u001b[0;36mcopy2\u001b[0;34m(src, dst, follow_symlinks)\u001b[0m\n\u001b[1;32m    432\u001b[0m \u001b[39mif\u001b[39;00m os\u001b[39m.\u001b[39mpath\u001b[39m.\u001b[39misdir(dst):\n\u001b[1;32m    433\u001b[0m     dst \u001b[39m=\u001b[39m os\u001b[39m.\u001b[39mpath\u001b[39m.\u001b[39mjoin(dst, os\u001b[39m.\u001b[39mpath\u001b[39m.\u001b[39mbasename(src))\n\u001b[0;32m--> 434\u001b[0m copyfile(src, dst, follow_symlinks\u001b[39m=\u001b[39;49mfollow_symlinks)\n\u001b[1;32m    435\u001b[0m copystat(src, dst, follow_symlinks\u001b[39m=\u001b[39mfollow_symlinks)\n\u001b[1;32m    436\u001b[0m \u001b[39mreturn\u001b[39;00m dst\n",
      "File \u001b[0;32m~/miniconda3/lib/python3.10/shutil.py:254\u001b[0m, in \u001b[0;36mcopyfile\u001b[0;34m(src, dst, follow_symlinks)\u001b[0m\n\u001b[1;32m    252\u001b[0m     os\u001b[39m.\u001b[39msymlink(os\u001b[39m.\u001b[39mreadlink(src), dst)\n\u001b[1;32m    253\u001b[0m \u001b[39melse\u001b[39;00m:\n\u001b[0;32m--> 254\u001b[0m     \u001b[39mwith\u001b[39;00m \u001b[39mopen\u001b[39;49m(src, \u001b[39m'\u001b[39;49m\u001b[39mrb\u001b[39;49m\u001b[39m'\u001b[39;49m) \u001b[39mas\u001b[39;00m fsrc:\n\u001b[1;32m    255\u001b[0m         \u001b[39mtry\u001b[39;00m:\n\u001b[1;32m    256\u001b[0m             \u001b[39mwith\u001b[39;00m \u001b[39mopen\u001b[39m(dst, \u001b[39m'\u001b[39m\u001b[39mwb\u001b[39m\u001b[39m'\u001b[39m) \u001b[39mas\u001b[39;00m fdst:\n\u001b[1;32m    257\u001b[0m                 \u001b[39m# macOS\u001b[39;00m\n",
      "\u001b[0;31mFileNotFoundError\u001b[0m: [Errno 2] No such file or directory: 'data/Mnist_Image_Data/Images/train/0.png'"
     ]
    }
   ],
   "source": [
    "\n",
    "#need to sort the data so that each class is separated within the test and train folders \n",
    "# TRAIN FOLDER SORT FIRST: \n",
    "\n",
    "# Define the paths for your dataset and the destination folder.\n",
    "dataset_path_train = 'data/Mnist_Image_Data/train.csv'\n",
    "destination_folder_train = train_dir\n",
    "\n",
    "# Read the dataset into a DataFrame.\n",
    "df = pd.read_csv(dataset_path_train)\n",
    "\n",
    "# Create folders for each label (0-9) if they don't exist.\n",
    "for label in range(10):\n",
    "    label_folder = os.path.join(destination_folder_train, str(label))\n",
    "    if not os.path.exists(label_folder):\n",
    "        os.makedirs(label_folder)\n",
    "moved_files = set()\n",
    "# Iterate through the dataset and move data points to the appropriate folder.\n",
    "for index, row in df.iterrows():\n",
    "    feature_value = row['filename']\n",
    "    label_value = row['label']\n",
    "   \n",
    "    # Create the source and destination paths for the data point.\n",
    "    source_path_train = os.path.join(destination_folder_train, feature_value)\n",
    "    destination_path_train = os.path.join(destination_folder_train, str(label_value), feature_value)\n",
    "\n",
    "    if feature_value not in moved_files:\n",
    "    # Move the data point to the destination folder.\n",
    "        shutil.move(source_path_train, destination_path_train)\n",
    "        moved_files.add(feature_value)\n",
    "    else:\n",
    "        print(f\"Files have already been moved.\")\n",
    "\n",
    "\n",
    "    "
   ]
  },
  {
   "cell_type": "code",
   "execution_count": null,
   "metadata": {},
   "outputs": [],
   "source": [
    "#need to sort the data so that each class is separated within the test and train folders \n",
    "# TEST FOLDER SORT: \n",
    "\n",
    "# Define the paths for folder and csv \n",
    "dataset_path_test = 'data/Mnist_Image_Data/test.csv'\n",
    "destination_folder_test = test_dir\n",
    "\n",
    "# Read the dataset\n",
    "df = pd.read_csv(dataset_path_test)\n",
    "\n",
    "# Create folders for each label (0-9) if they don't exist\n",
    "for label in range(10):\n",
    "    label_folder = os.path.join(destination_folder_test, str(label))\n",
    "    if not os.path.exists(label_folder):\n",
    "        os.makedirs(label_folder)\n",
    "\n",
    "# Iterate through the dataset and move data points to the appropriate folder\n",
    "for index, row in df.iterrows():\n",
    "    filename = row['filename']\n",
    "    label = row['label']\n",
    "    \n",
    "    # Create the source and destination paths for the data point.\n",
    "    source_path_test = os.path.join(destination_folder_test, filename)\n",
    "    destination_path_test = os.path.join(destination_folder_test, str(label), filename)\n",
    "    \n",
    "    # Move the data point to the destination folder.\n",
    "    shutil.move(source_path_test, destination_path_test)\n",
    "\n",
    "    "
   ]
  },
  {
   "cell_type": "code",
   "execution_count": 7,
   "metadata": {},
   "outputs": [],
   "source": [
    "# 1. Get pretrained weights \n",
    "weights = torchvision.models.EfficientNet_B0_Weights.DEFAULT # .DEFAULT = best available weights \n",
    "model = torchvision.models.efficientnet_b0(weights=weights).to(device)\n",
    "\n",
    "# 3. Freeze the base parameters\n",
    "for parameter in model.parameters():\n",
    "    parameter.requires_grad = False\n",
    "    \n",
    "# 4. Change the classifier head \n",
    "class_names= ['0','1','2','3','4','5','6','7','8','9']\n",
    "\n",
    "output_shape = len(class_names)\n",
    "\n",
    "torch.manual_seed(42)\n",
    "torch.cuda.manual_seed(42)\n",
    "\n",
    "# Recreate the classifier layer and seed it to the target device\n",
    "model.classifier = torch.nn.Sequential(\n",
    "    torch.nn.Dropout(p=0.5, inplace=True), \n",
    "    torch.nn.Linear(in_features=256, \n",
    "                    out_features=output_shape)).to(device)"
   ]
  },
  {
   "cell_type": "code",
   "execution_count": 8,
   "metadata": {},
   "outputs": [
    {
     "name": "stdout",
     "output_type": "stream",
     "text": [
      "ImageClassification(\n",
      "    crop_size=[224]\n",
      "    resize_size=[256]\n",
      "    mean=[0.485, 0.456, 0.406]\n",
      "    std=[0.229, 0.224, 0.225]\n",
      "    interpolation=InterpolationMode.BICUBIC\n",
      ")\n"
     ]
    }
   ],
   "source": [
    "# Get the transforms used to create our pretrained weights\n",
    "\n",
    "\n",
    "auto_transforms = weights.transforms()\n",
    "print(auto_transforms)"
   ]
  },
  {
   "cell_type": "code",
   "execution_count": 9,
   "metadata": {},
   "outputs": [
    {
     "ename": "RuntimeError",
     "evalue": "Failed to run torchinfo. See above stack traces for more details. Executed layers up to: [Sequential: 1, Conv2dNormActivation: 2, Conv2d: 3, BatchNorm2d: 3, SiLU: 3, Sequential: 2, MBConv: 3, Sequential: 4, Conv2dNormActivation: 5, Conv2d: 6, BatchNorm2d: 6, SiLU: 6, SqueezeExcitation: 5, AdaptiveAvgPool2d: 6, Conv2d: 6, SiLU: 6, Conv2d: 6, Sigmoid: 6, Conv2dNormActivation: 5, Conv2d: 6, BatchNorm2d: 6, Sequential: 2, MBConv: 3, Sequential: 4, Conv2dNormActivation: 5, Conv2d: 6, BatchNorm2d: 6, SiLU: 6, Conv2dNormActivation: 5, Conv2d: 6, BatchNorm2d: 6, SiLU: 6, SqueezeExcitation: 5, AdaptiveAvgPool2d: 6, Conv2d: 6, SiLU: 6, Conv2d: 6, Sigmoid: 6, Conv2dNormActivation: 5, Conv2d: 6, BatchNorm2d: 6, MBConv: 3, Sequential: 4, Conv2dNormActivation: 5, Conv2d: 6, BatchNorm2d: 6, SiLU: 6, Conv2dNormActivation: 5, Conv2d: 6, BatchNorm2d: 6, SiLU: 6, SqueezeExcitation: 5, AdaptiveAvgPool2d: 6, Conv2d: 6, SiLU: 6, Conv2d: 6, Sigmoid: 6, Conv2dNormActivation: 5, Conv2d: 6, BatchNorm2d: 6, StochasticDepth: 4, Sequential: 2, MBConv: 3, Sequential: 4, Conv2dNormActivation: 5, Conv2d: 6, BatchNorm2d: 6, SiLU: 6, Conv2dNormActivation: 5, Conv2d: 6, BatchNorm2d: 6, SiLU: 6, SqueezeExcitation: 5, AdaptiveAvgPool2d: 6, Conv2d: 6, SiLU: 6, Conv2d: 6, Sigmoid: 6, Conv2dNormActivation: 5, Conv2d: 6, BatchNorm2d: 6, MBConv: 3, Sequential: 4, Conv2dNormActivation: 5, Conv2d: 6, BatchNorm2d: 6, SiLU: 6, Conv2dNormActivation: 5, Conv2d: 6, BatchNorm2d: 6, SiLU: 6, SqueezeExcitation: 5, AdaptiveAvgPool2d: 6, Conv2d: 6, SiLU: 6, Conv2d: 6, Sigmoid: 6, Conv2dNormActivation: 5, Conv2d: 6, BatchNorm2d: 6, StochasticDepth: 4, Sequential: 2, MBConv: 3, Sequential: 4, Conv2dNormActivation: 5, Conv2d: 6, BatchNorm2d: 6, SiLU: 6, Conv2dNormActivation: 5, Conv2d: 6, BatchNorm2d: 6, SiLU: 6, SqueezeExcitation: 5, AdaptiveAvgPool2d: 6, Conv2d: 6, SiLU: 6, Conv2d: 6, Sigmoid: 6, Conv2dNormActivation: 5, Conv2d: 6, BatchNorm2d: 6, MBConv: 3, Sequential: 4, Conv2dNormActivation: 5, Conv2d: 6, BatchNorm2d: 6, SiLU: 6, Conv2dNormActivation: 5, Conv2d: 6, BatchNorm2d: 6, SiLU: 6, SqueezeExcitation: 5, AdaptiveAvgPool2d: 6, Conv2d: 6, SiLU: 6, Conv2d: 6, Sigmoid: 6, Conv2dNormActivation: 5, Conv2d: 6, BatchNorm2d: 6, StochasticDepth: 4, MBConv: 3, Sequential: 4, Conv2dNormActivation: 5, Conv2d: 6, BatchNorm2d: 6, SiLU: 6, Conv2dNormActivation: 5, Conv2d: 6, BatchNorm2d: 6, SiLU: 6, SqueezeExcitation: 5, AdaptiveAvgPool2d: 6, Conv2d: 6, SiLU: 6, Conv2d: 6, Sigmoid: 6, Conv2dNormActivation: 5, Conv2d: 6, BatchNorm2d: 6, StochasticDepth: 4, Sequential: 2, MBConv: 3, Sequential: 4, Conv2dNormActivation: 5, Conv2d: 6, BatchNorm2d: 6, SiLU: 6, Conv2dNormActivation: 5, Conv2d: 6, BatchNorm2d: 6, SiLU: 6, SqueezeExcitation: 5, AdaptiveAvgPool2d: 6, Conv2d: 6, SiLU: 6, Conv2d: 6, Sigmoid: 6, Conv2dNormActivation: 5, Conv2d: 6, BatchNorm2d: 6, MBConv: 3, Sequential: 4, Conv2dNormActivation: 5, Conv2d: 6, BatchNorm2d: 6, SiLU: 6, Conv2dNormActivation: 5, Conv2d: 6, BatchNorm2d: 6, SiLU: 6, SqueezeExcitation: 5, AdaptiveAvgPool2d: 6, Conv2d: 6, SiLU: 6, Conv2d: 6, Sigmoid: 6, Conv2dNormActivation: 5, Conv2d: 6, BatchNorm2d: 6, StochasticDepth: 4, MBConv: 3, Sequential: 4, Conv2dNormActivation: 5, Conv2d: 6, BatchNorm2d: 6, SiLU: 6, Conv2dNormActivation: 5, Conv2d: 6, BatchNorm2d: 6, SiLU: 6, SqueezeExcitation: 5, AdaptiveAvgPool2d: 6, Conv2d: 6, SiLU: 6, Conv2d: 6, Sigmoid: 6, Conv2dNormActivation: 5, Conv2d: 6, BatchNorm2d: 6, StochasticDepth: 4, Sequential: 2, MBConv: 3, Sequential: 4, Conv2dNormActivation: 5, Conv2d: 6, BatchNorm2d: 6, SiLU: 6, Conv2dNormActivation: 5, Conv2d: 6, BatchNorm2d: 6, SiLU: 6, SqueezeExcitation: 5, AdaptiveAvgPool2d: 6, Conv2d: 6, SiLU: 6, Conv2d: 6, Sigmoid: 6, Conv2dNormActivation: 5, Conv2d: 6, BatchNorm2d: 6, MBConv: 3, Sequential: 4, Conv2dNormActivation: 5, Conv2d: 6, BatchNorm2d: 6, SiLU: 6, Conv2dNormActivation: 5, Conv2d: 6, BatchNorm2d: 6, SiLU: 6, SqueezeExcitation: 5, AdaptiveAvgPool2d: 6, Conv2d: 6, SiLU: 6, Conv2d: 6, Sigmoid: 6, Conv2dNormActivation: 5, Conv2d: 6, BatchNorm2d: 6, StochasticDepth: 4, MBConv: 3, Sequential: 4, Conv2dNormActivation: 5, Conv2d: 6, BatchNorm2d: 6, SiLU: 6, Conv2dNormActivation: 5, Conv2d: 6, BatchNorm2d: 6, SiLU: 6, SqueezeExcitation: 5, AdaptiveAvgPool2d: 6, Conv2d: 6, SiLU: 6, Conv2d: 6, Sigmoid: 6, Conv2dNormActivation: 5, Conv2d: 6, BatchNorm2d: 6, StochasticDepth: 4, MBConv: 3, Sequential: 4, Conv2dNormActivation: 5, Conv2d: 6, BatchNorm2d: 6, SiLU: 6, Conv2dNormActivation: 5, Conv2d: 6, BatchNorm2d: 6, SiLU: 6, SqueezeExcitation: 5, AdaptiveAvgPool2d: 6, Conv2d: 6, SiLU: 6, Conv2d: 6, Sigmoid: 6, Conv2dNormActivation: 5, Conv2d: 6, BatchNorm2d: 6, StochasticDepth: 4, Sequential: 2, MBConv: 3, Sequential: 4, Conv2dNormActivation: 5, Conv2d: 6, BatchNorm2d: 6, SiLU: 6, Conv2dNormActivation: 5, Conv2d: 6, BatchNorm2d: 6, SiLU: 6, SqueezeExcitation: 5, AdaptiveAvgPool2d: 6, Conv2d: 6, SiLU: 6, Conv2d: 6, Sigmoid: 6, Conv2dNormActivation: 5, Conv2d: 6, BatchNorm2d: 6, Conv2dNormActivation: 2, Conv2d: 3, BatchNorm2d: 3, SiLU: 3, AdaptiveAvgPool2d: 1, Dropout: 2]",
     "output_type": "error",
     "traceback": [
      "\u001b[0;31m---------------------------------------------------------------------------\u001b[0m",
      "\u001b[0;31mRuntimeError\u001b[0m                              Traceback (most recent call last)",
      "File \u001b[0;32m~/miniconda3/lib/python3.10/site-packages/torchinfo/torchinfo.py:295\u001b[0m, in \u001b[0;36mforward_pass\u001b[0;34m(model, x, batch_dim, cache_forward_pass, device, mode, **kwargs)\u001b[0m\n\u001b[1;32m    294\u001b[0m \u001b[39mif\u001b[39;00m \u001b[39misinstance\u001b[39m(x, (\u001b[39mlist\u001b[39m, \u001b[39mtuple\u001b[39m)):\n\u001b[0;32m--> 295\u001b[0m     _ \u001b[39m=\u001b[39m model(\u001b[39m*\u001b[39;49mx, \u001b[39m*\u001b[39;49m\u001b[39m*\u001b[39;49mkwargs)\n\u001b[1;32m    296\u001b[0m \u001b[39melif\u001b[39;00m \u001b[39misinstance\u001b[39m(x, \u001b[39mdict\u001b[39m):\n",
      "File \u001b[0;32m~/miniconda3/lib/python3.10/site-packages/torch/nn/modules/module.py:1538\u001b[0m, in \u001b[0;36mModule._call_impl\u001b[0;34m(self, *args, **kwargs)\u001b[0m\n\u001b[1;32m   1536\u001b[0m     args \u001b[39m=\u001b[39m bw_hook\u001b[39m.\u001b[39msetup_input_hook(args)\n\u001b[0;32m-> 1538\u001b[0m result \u001b[39m=\u001b[39m forward_call(\u001b[39m*\u001b[39;49margs, \u001b[39m*\u001b[39;49m\u001b[39m*\u001b[39;49mkwargs)\n\u001b[1;32m   1539\u001b[0m \u001b[39mif\u001b[39;00m _global_forward_hooks \u001b[39mor\u001b[39;00m \u001b[39mself\u001b[39m\u001b[39m.\u001b[39m_forward_hooks:\n",
      "File \u001b[0;32m~/miniconda3/lib/python3.10/site-packages/torchvision/models/efficientnet.py:343\u001b[0m, in \u001b[0;36mEfficientNet.forward\u001b[0;34m(self, x)\u001b[0m\n\u001b[1;32m    342\u001b[0m \u001b[39mdef\u001b[39;00m \u001b[39mforward\u001b[39m(\u001b[39mself\u001b[39m, x: Tensor) \u001b[39m-\u001b[39m\u001b[39m>\u001b[39m Tensor:\n\u001b[0;32m--> 343\u001b[0m     \u001b[39mreturn\u001b[39;00m \u001b[39mself\u001b[39;49m\u001b[39m.\u001b[39;49m_forward_impl(x)\n",
      "File \u001b[0;32m~/miniconda3/lib/python3.10/site-packages/torchvision/models/efficientnet.py:338\u001b[0m, in \u001b[0;36mEfficientNet._forward_impl\u001b[0;34m(self, x)\u001b[0m\n\u001b[1;32m    336\u001b[0m x \u001b[39m=\u001b[39m torch\u001b[39m.\u001b[39mflatten(x, \u001b[39m1\u001b[39m)\n\u001b[0;32m--> 338\u001b[0m x \u001b[39m=\u001b[39m \u001b[39mself\u001b[39;49m\u001b[39m.\u001b[39;49mclassifier(x)\n\u001b[1;32m    340\u001b[0m \u001b[39mreturn\u001b[39;00m x\n",
      "File \u001b[0;32m~/miniconda3/lib/python3.10/site-packages/torch/nn/modules/module.py:1538\u001b[0m, in \u001b[0;36mModule._call_impl\u001b[0;34m(self, *args, **kwargs)\u001b[0m\n\u001b[1;32m   1536\u001b[0m     args \u001b[39m=\u001b[39m bw_hook\u001b[39m.\u001b[39msetup_input_hook(args)\n\u001b[0;32m-> 1538\u001b[0m result \u001b[39m=\u001b[39m forward_call(\u001b[39m*\u001b[39;49margs, \u001b[39m*\u001b[39;49m\u001b[39m*\u001b[39;49mkwargs)\n\u001b[1;32m   1539\u001b[0m \u001b[39mif\u001b[39;00m _global_forward_hooks \u001b[39mor\u001b[39;00m \u001b[39mself\u001b[39m\u001b[39m.\u001b[39m_forward_hooks:\n",
      "File \u001b[0;32m~/miniconda3/lib/python3.10/site-packages/torch/nn/modules/container.py:217\u001b[0m, in \u001b[0;36mSequential.forward\u001b[0;34m(self, input)\u001b[0m\n\u001b[1;32m    216\u001b[0m \u001b[39mfor\u001b[39;00m module \u001b[39min\u001b[39;00m \u001b[39mself\u001b[39m:\n\u001b[0;32m--> 217\u001b[0m     \u001b[39minput\u001b[39m \u001b[39m=\u001b[39m module(\u001b[39minput\u001b[39;49m)\n\u001b[1;32m    218\u001b[0m \u001b[39mreturn\u001b[39;00m \u001b[39minput\u001b[39m\n",
      "File \u001b[0;32m~/miniconda3/lib/python3.10/site-packages/torch/nn/modules/module.py:1538\u001b[0m, in \u001b[0;36mModule._call_impl\u001b[0;34m(self, *args, **kwargs)\u001b[0m\n\u001b[1;32m   1536\u001b[0m     args \u001b[39m=\u001b[39m bw_hook\u001b[39m.\u001b[39msetup_input_hook(args)\n\u001b[0;32m-> 1538\u001b[0m result \u001b[39m=\u001b[39m forward_call(\u001b[39m*\u001b[39;49margs, \u001b[39m*\u001b[39;49m\u001b[39m*\u001b[39;49mkwargs)\n\u001b[1;32m   1539\u001b[0m \u001b[39mif\u001b[39;00m _global_forward_hooks \u001b[39mor\u001b[39;00m \u001b[39mself\u001b[39m\u001b[39m.\u001b[39m_forward_hooks:\n",
      "File \u001b[0;32m~/miniconda3/lib/python3.10/site-packages/torch/nn/modules/linear.py:114\u001b[0m, in \u001b[0;36mLinear.forward\u001b[0;34m(self, input)\u001b[0m\n\u001b[1;32m    113\u001b[0m \u001b[39mdef\u001b[39;00m \u001b[39mforward\u001b[39m(\u001b[39mself\u001b[39m, \u001b[39minput\u001b[39m: Tensor) \u001b[39m-\u001b[39m\u001b[39m>\u001b[39m Tensor:\n\u001b[0;32m--> 114\u001b[0m     \u001b[39mreturn\u001b[39;00m F\u001b[39m.\u001b[39;49mlinear(\u001b[39minput\u001b[39;49m, \u001b[39mself\u001b[39;49m\u001b[39m.\u001b[39;49mweight, \u001b[39mself\u001b[39;49m\u001b[39m.\u001b[39;49mbias)\n",
      "\u001b[0;31mRuntimeError\u001b[0m: mat1 and mat2 shapes cannot be multiplied (32x1280 and 256x10)",
      "\nThe above exception was the direct cause of the following exception:\n",
      "\u001b[0;31mRuntimeError\u001b[0m                              Traceback (most recent call last)",
      "Cell \u001b[0;32mIn[9], line 2\u001b[0m\n\u001b[1;32m      1\u001b[0m \u001b[39m# Print a summary using torchinfo \u001b[39;00m\n\u001b[0;32m----> 2\u001b[0m summary(model\u001b[39m=\u001b[39;49mmodel, \n\u001b[1;32m      3\u001b[0m         input_size\u001b[39m=\u001b[39;49m(\u001b[39m32\u001b[39;49m, \u001b[39m3\u001b[39;49m, \u001b[39m224\u001b[39;49m, \u001b[39m224\u001b[39;49m), \n\u001b[1;32m      4\u001b[0m         \u001b[39m# col_names=[\"input_size\"], # uncomment for smaller output\u001b[39;49;00m\n\u001b[1;32m      5\u001b[0m         col_names\u001b[39m=\u001b[39;49m[\u001b[39m\"\u001b[39;49m\u001b[39minput_size\u001b[39;49m\u001b[39m\"\u001b[39;49m, \u001b[39m\"\u001b[39;49m\u001b[39moutput_size\u001b[39;49m\u001b[39m\"\u001b[39;49m, \u001b[39m\"\u001b[39;49m\u001b[39mnum_params\u001b[39;49m\u001b[39m\"\u001b[39;49m, \u001b[39m\"\u001b[39;49m\u001b[39mtrainable\u001b[39;49m\u001b[39m\"\u001b[39;49m],\n\u001b[1;32m      6\u001b[0m         col_width\u001b[39m=\u001b[39;49m\u001b[39m20\u001b[39;49m,\n\u001b[1;32m      7\u001b[0m         row_settings\u001b[39m=\u001b[39;49m[\u001b[39m\"\u001b[39;49m\u001b[39mvar_names\u001b[39;49m\u001b[39m\"\u001b[39;49m]\n\u001b[1;32m      8\u001b[0m )\n",
      "File \u001b[0;32m~/miniconda3/lib/python3.10/site-packages/torchinfo/torchinfo.py:223\u001b[0m, in \u001b[0;36msummary\u001b[0;34m(model, input_size, input_data, batch_dim, cache_forward_pass, col_names, col_width, depth, device, dtypes, mode, row_settings, verbose, **kwargs)\u001b[0m\n\u001b[1;32m    216\u001b[0m validate_user_params(\n\u001b[1;32m    217\u001b[0m     input_data, input_size, columns, col_width, device, dtypes, verbose\n\u001b[1;32m    218\u001b[0m )\n\u001b[1;32m    220\u001b[0m x, correct_input_size \u001b[39m=\u001b[39m process_input(\n\u001b[1;32m    221\u001b[0m     input_data, input_size, batch_dim, device, dtypes\n\u001b[1;32m    222\u001b[0m )\n\u001b[0;32m--> 223\u001b[0m summary_list \u001b[39m=\u001b[39m forward_pass(\n\u001b[1;32m    224\u001b[0m     model, x, batch_dim, cache_forward_pass, device, model_mode, \u001b[39m*\u001b[39;49m\u001b[39m*\u001b[39;49mkwargs\n\u001b[1;32m    225\u001b[0m )\n\u001b[1;32m    226\u001b[0m formatting \u001b[39m=\u001b[39m FormattingOptions(depth, verbose, columns, col_width, rows)\n\u001b[1;32m    227\u001b[0m results \u001b[39m=\u001b[39m ModelStatistics(\n\u001b[1;32m    228\u001b[0m     summary_list, correct_input_size, get_total_memory_used(x), formatting\n\u001b[1;32m    229\u001b[0m )\n",
      "File \u001b[0;32m~/miniconda3/lib/python3.10/site-packages/torchinfo/torchinfo.py:304\u001b[0m, in \u001b[0;36mforward_pass\u001b[0;34m(model, x, batch_dim, cache_forward_pass, device, mode, **kwargs)\u001b[0m\n\u001b[1;32m    302\u001b[0m \u001b[39mexcept\u001b[39;00m \u001b[39mException\u001b[39;00m \u001b[39mas\u001b[39;00m e:\n\u001b[1;32m    303\u001b[0m     executed_layers \u001b[39m=\u001b[39m [layer \u001b[39mfor\u001b[39;00m layer \u001b[39min\u001b[39;00m summary_list \u001b[39mif\u001b[39;00m layer\u001b[39m.\u001b[39mexecuted]\n\u001b[0;32m--> 304\u001b[0m     \u001b[39mraise\u001b[39;00m \u001b[39mRuntimeError\u001b[39;00m(\n\u001b[1;32m    305\u001b[0m         \u001b[39m\"\u001b[39m\u001b[39mFailed to run torchinfo. See above stack traces for more details. \u001b[39m\u001b[39m\"\u001b[39m\n\u001b[1;32m    306\u001b[0m         \u001b[39mf\u001b[39m\u001b[39m\"\u001b[39m\u001b[39mExecuted layers up to: \u001b[39m\u001b[39m{\u001b[39;00mexecuted_layers\u001b[39m}\u001b[39;00m\u001b[39m\"\u001b[39m\n\u001b[1;32m    307\u001b[0m     ) \u001b[39mfrom\u001b[39;00m \u001b[39me\u001b[39;00m\n\u001b[1;32m    308\u001b[0m \u001b[39mfinally\u001b[39;00m:\n\u001b[1;32m    309\u001b[0m     \u001b[39mif\u001b[39;00m hooks:\n",
      "\u001b[0;31mRuntimeError\u001b[0m: Failed to run torchinfo. See above stack traces for more details. Executed layers up to: [Sequential: 1, Conv2dNormActivation: 2, Conv2d: 3, BatchNorm2d: 3, SiLU: 3, Sequential: 2, MBConv: 3, Sequential: 4, Conv2dNormActivation: 5, Conv2d: 6, BatchNorm2d: 6, SiLU: 6, SqueezeExcitation: 5, AdaptiveAvgPool2d: 6, Conv2d: 6, SiLU: 6, Conv2d: 6, Sigmoid: 6, Conv2dNormActivation: 5, Conv2d: 6, BatchNorm2d: 6, Sequential: 2, MBConv: 3, Sequential: 4, Conv2dNormActivation: 5, Conv2d: 6, BatchNorm2d: 6, SiLU: 6, Conv2dNormActivation: 5, Conv2d: 6, BatchNorm2d: 6, SiLU: 6, SqueezeExcitation: 5, AdaptiveAvgPool2d: 6, Conv2d: 6, SiLU: 6, Conv2d: 6, Sigmoid: 6, Conv2dNormActivation: 5, Conv2d: 6, BatchNorm2d: 6, MBConv: 3, Sequential: 4, Conv2dNormActivation: 5, Conv2d: 6, BatchNorm2d: 6, SiLU: 6, Conv2dNormActivation: 5, Conv2d: 6, BatchNorm2d: 6, SiLU: 6, SqueezeExcitation: 5, AdaptiveAvgPool2d: 6, Conv2d: 6, SiLU: 6, Conv2d: 6, Sigmoid: 6, Conv2dNormActivation: 5, Conv2d: 6, BatchNorm2d: 6, StochasticDepth: 4, Sequential: 2, MBConv: 3, Sequential: 4, Conv2dNormActivation: 5, Conv2d: 6, BatchNorm2d: 6, SiLU: 6, Conv2dNormActivation: 5, Conv2d: 6, BatchNorm2d: 6, SiLU: 6, SqueezeExcitation: 5, AdaptiveAvgPool2d: 6, Conv2d: 6, SiLU: 6, Conv2d: 6, Sigmoid: 6, Conv2dNormActivation: 5, Conv2d: 6, BatchNorm2d: 6, MBConv: 3, Sequential: 4, Conv2dNormActivation: 5, Conv2d: 6, BatchNorm2d: 6, SiLU: 6, Conv2dNormActivation: 5, Conv2d: 6, BatchNorm2d: 6, SiLU: 6, SqueezeExcitation: 5, AdaptiveAvgPool2d: 6, Conv2d: 6, SiLU: 6, Conv2d: 6, Sigmoid: 6, Conv2dNormActivation: 5, Conv2d: 6, BatchNorm2d: 6, StochasticDepth: 4, Sequential: 2, MBConv: 3, Sequential: 4, Conv2dNormActivation: 5, Conv2d: 6, BatchNorm2d: 6, SiLU: 6, Conv2dNormActivation: 5, Conv2d: 6, BatchNorm2d: 6, SiLU: 6, SqueezeExcitation: 5, AdaptiveAvgPool2d: 6, Conv2d: 6, SiLU: 6, Conv2d: 6, Sigmoid: 6, Conv2dNormActivation: 5, Conv2d: 6, BatchNorm2d: 6, MBConv: 3, Sequential: 4, Conv2dNormActivation: 5, Conv2d: 6, BatchNorm2d: 6, SiLU: 6, Conv2dNormActivation: 5, Conv2d: 6, BatchNorm2d: 6, SiLU: 6, SqueezeExcitation: 5, AdaptiveAvgPool2d: 6, Conv2d: 6, SiLU: 6, Conv2d: 6, Sigmoid: 6, Conv2dNormActivation: 5, Conv2d: 6, BatchNorm2d: 6, StochasticDepth: 4, MBConv: 3, Sequential: 4, Conv2dNormActivation: 5, Conv2d: 6, BatchNorm2d: 6, SiLU: 6, Conv2dNormActivation: 5, Conv2d: 6, BatchNorm2d: 6, SiLU: 6, SqueezeExcitation: 5, AdaptiveAvgPool2d: 6, Conv2d: 6, SiLU: 6, Conv2d: 6, Sigmoid: 6, Conv2dNormActivation: 5, Conv2d: 6, BatchNorm2d: 6, StochasticDepth: 4, Sequential: 2, MBConv: 3, Sequential: 4, Conv2dNormActivation: 5, Conv2d: 6, BatchNorm2d: 6, SiLU: 6, Conv2dNormActivation: 5, Conv2d: 6, BatchNorm2d: 6, SiLU: 6, SqueezeExcitation: 5, AdaptiveAvgPool2d: 6, Conv2d: 6, SiLU: 6, Conv2d: 6, Sigmoid: 6, Conv2dNormActivation: 5, Conv2d: 6, BatchNorm2d: 6, MBConv: 3, Sequential: 4, Conv2dNormActivation: 5, Conv2d: 6, BatchNorm2d: 6, SiLU: 6, Conv2dNormActivation: 5, Conv2d: 6, BatchNorm2d: 6, SiLU: 6, SqueezeExcitation: 5, AdaptiveAvgPool2d: 6, Conv2d: 6, SiLU: 6, Conv2d: 6, Sigmoid: 6, Conv2dNormActivation: 5, Conv2d: 6, BatchNorm2d: 6, StochasticDepth: 4, MBConv: 3, Sequential: 4, Conv2dNormActivation: 5, Conv2d: 6, BatchNorm2d: 6, SiLU: 6, Conv2dNormActivation: 5, Conv2d: 6, BatchNorm2d: 6, SiLU: 6, SqueezeExcitation: 5, AdaptiveAvgPool2d: 6, Conv2d: 6, SiLU: 6, Conv2d: 6, Sigmoid: 6, Conv2dNormActivation: 5, Conv2d: 6, BatchNorm2d: 6, StochasticDepth: 4, Sequential: 2, MBConv: 3, Sequential: 4, Conv2dNormActivation: 5, Conv2d: 6, BatchNorm2d: 6, SiLU: 6, Conv2dNormActivation: 5, Conv2d: 6, BatchNorm2d: 6, SiLU: 6, SqueezeExcitation: 5, AdaptiveAvgPool2d: 6, Conv2d: 6, SiLU: 6, Conv2d: 6, Sigmoid: 6, Conv2dNormActivation: 5, Conv2d: 6, BatchNorm2d: 6, MBConv: 3, Sequential: 4, Conv2dNormActivation: 5, Conv2d: 6, BatchNorm2d: 6, SiLU: 6, Conv2dNormActivation: 5, Conv2d: 6, BatchNorm2d: 6, SiLU: 6, SqueezeExcitation: 5, AdaptiveAvgPool2d: 6, Conv2d: 6, SiLU: 6, Conv2d: 6, Sigmoid: 6, Conv2dNormActivation: 5, Conv2d: 6, BatchNorm2d: 6, StochasticDepth: 4, MBConv: 3, Sequential: 4, Conv2dNormActivation: 5, Conv2d: 6, BatchNorm2d: 6, SiLU: 6, Conv2dNormActivation: 5, Conv2d: 6, BatchNorm2d: 6, SiLU: 6, SqueezeExcitation: 5, AdaptiveAvgPool2d: 6, Conv2d: 6, SiLU: 6, Conv2d: 6, Sigmoid: 6, Conv2dNormActivation: 5, Conv2d: 6, BatchNorm2d: 6, StochasticDepth: 4, MBConv: 3, Sequential: 4, Conv2dNormActivation: 5, Conv2d: 6, BatchNorm2d: 6, SiLU: 6, Conv2dNormActivation: 5, Conv2d: 6, BatchNorm2d: 6, SiLU: 6, SqueezeExcitation: 5, AdaptiveAvgPool2d: 6, Conv2d: 6, SiLU: 6, Conv2d: 6, Sigmoid: 6, Conv2dNormActivation: 5, Conv2d: 6, BatchNorm2d: 6, StochasticDepth: 4, Sequential: 2, MBConv: 3, Sequential: 4, Conv2dNormActivation: 5, Conv2d: 6, BatchNorm2d: 6, SiLU: 6, Conv2dNormActivation: 5, Conv2d: 6, BatchNorm2d: 6, SiLU: 6, SqueezeExcitation: 5, AdaptiveAvgPool2d: 6, Conv2d: 6, SiLU: 6, Conv2d: 6, Sigmoid: 6, Conv2dNormActivation: 5, Conv2d: 6, BatchNorm2d: 6, Conv2dNormActivation: 2, Conv2d: 3, BatchNorm2d: 3, SiLU: 3, AdaptiveAvgPool2d: 1, Dropout: 2]"
     ]
    }
   ],
   "source": [
    "# Print a summary using torchinfo \n",
    "summary(model=model, \n",
    "        input_size=(32, 3, 224, 224), \n",
    "        # col_names=[\"input_size\"], # uncomment for smaller output\n",
    "        col_names=[\"input_size\", \"output_size\", \"num_params\", \"trainable\"],\n",
    "        col_width=20,\n",
    "        row_settings=[\"var_names\"]\n",
    ") "
   ]
  },
  {
   "cell_type": "code",
   "execution_count": 10,
   "metadata": {},
   "outputs": [
    {
     "data": {
      "text/plain": [
       "(<torch.utils.data.dataloader.DataLoader at 0x15f1484c0>,\n",
       " <torch.utils.data.dataloader.DataLoader at 0x15e9d1690>,\n",
       " ['0', '1', '2', '3', '4', '5', '6', '7', '8', '9'])"
      ]
     },
     "execution_count": 10,
     "metadata": {},
     "output_type": "execute_result"
    }
   ],
   "source": [
    "# Setup dataloaders\n",
    "train_dataloader, test_dataloader, class_names = data_setup.create_dataloaders(train_dir=train_dir,\n",
    "                                                                               test_dir=test_dir,\n",
    "                                                                               transform=auto_transforms, # perform same data transforms on our own data as the pretrained model\n",
    "                                                                               batch_size=64) # set mini-batch size \n",
    "\n",
    "train_dataloader, test_dataloader, class_names"
   ]
  },
  {
   "cell_type": "code",
   "execution_count": 11,
   "metadata": {},
   "outputs": [],
   "source": [
    "# Define loss and optimizer\n",
    "loss_fn = nn.CrossEntropyLoss()\n",
    "optimizer = torch.optim.Adam(model.parameters(), lr=0.001)"
   ]
  },
  {
   "cell_type": "code",
   "execution_count": 12,
   "metadata": {},
   "outputs": [
    {
     "name": "stderr",
     "output_type": "stream",
     "text": [
      "  0%|          | 0/5 [00:53<?, ?it/s]\n"
     ]
    },
    {
     "ename": "RuntimeError",
     "evalue": "mat1 and mat2 shapes cannot be multiplied (64x1280 and 256x10)",
     "output_type": "error",
     "traceback": [
      "\u001b[0;31m---------------------------------------------------------------------------\u001b[0m",
      "\u001b[0;31mRuntimeError\u001b[0m                              Traceback (most recent call last)",
      "Cell \u001b[0;32mIn[12], line 10\u001b[0m\n\u001b[1;32m      7\u001b[0m start_time \u001b[39m=\u001b[39m timer()\n\u001b[1;32m      9\u001b[0m \u001b[39m# Setup training and save the results\u001b[39;00m\n\u001b[0;32m---> 10\u001b[0m results \u001b[39m=\u001b[39m engine\u001b[39m.\u001b[39;49mtrain(model\u001b[39m=\u001b[39;49mmodel,\n\u001b[1;32m     11\u001b[0m                        train_dataloader\u001b[39m=\u001b[39;49mtrain_dataloader,\n\u001b[1;32m     12\u001b[0m                        test_dataloader\u001b[39m=\u001b[39;49mtest_dataloader,\n\u001b[1;32m     13\u001b[0m                        optimizer\u001b[39m=\u001b[39;49moptimizer,\n\u001b[1;32m     14\u001b[0m                        loss_fn\u001b[39m=\u001b[39;49mloss_fn,\n\u001b[1;32m     15\u001b[0m                        epochs\u001b[39m=\u001b[39;49m\u001b[39m5\u001b[39;49m,\n\u001b[1;32m     16\u001b[0m                        device\u001b[39m=\u001b[39;49mdevice)\n\u001b[1;32m     18\u001b[0m \u001b[39m# End the timer and print out how long it took\u001b[39;00m\n\u001b[1;32m     19\u001b[0m end_time \u001b[39m=\u001b[39m timer()\n",
      "File \u001b[0;32m~/INFO4000/week 6 /going_modular/going_modular/engine.py:169\u001b[0m, in \u001b[0;36mtrain\u001b[0;34m(model, train_dataloader, test_dataloader, optimizer, loss_fn, epochs, device)\u001b[0m\n\u001b[1;32m    167\u001b[0m \u001b[39m# Loop through training and testing steps for a number of epochs\u001b[39;00m\n\u001b[1;32m    168\u001b[0m \u001b[39mfor\u001b[39;00m epoch \u001b[39min\u001b[39;00m tqdm(\u001b[39mrange\u001b[39m(epochs)):\n\u001b[0;32m--> 169\u001b[0m     train_loss, train_acc \u001b[39m=\u001b[39m train_step(model\u001b[39m=\u001b[39;49mmodel,\n\u001b[1;32m    170\u001b[0m                                       dataloader\u001b[39m=\u001b[39;49mtrain_dataloader,\n\u001b[1;32m    171\u001b[0m                                       loss_fn\u001b[39m=\u001b[39;49mloss_fn,\n\u001b[1;32m    172\u001b[0m                                       optimizer\u001b[39m=\u001b[39;49moptimizer,\n\u001b[1;32m    173\u001b[0m                                       device\u001b[39m=\u001b[39;49mdevice)\n\u001b[1;32m    174\u001b[0m     test_loss, test_acc \u001b[39m=\u001b[39m test_step(model\u001b[39m=\u001b[39mmodel,\n\u001b[1;32m    175\u001b[0m       dataloader\u001b[39m=\u001b[39mtest_dataloader,\n\u001b[1;32m    176\u001b[0m       loss_fn\u001b[39m=\u001b[39mloss_fn,\n\u001b[1;32m    177\u001b[0m       device\u001b[39m=\u001b[39mdevice)\n\u001b[1;32m    179\u001b[0m     \u001b[39m# Print out what's happening\u001b[39;00m\n",
      "File \u001b[0;32m~/INFO4000/week 6 /going_modular/going_modular/engine.py:45\u001b[0m, in \u001b[0;36mtrain_step\u001b[0;34m(model, dataloader, loss_fn, optimizer, device)\u001b[0m\n\u001b[1;32m     42\u001b[0m X, y \u001b[39m=\u001b[39m X\u001b[39m.\u001b[39mto(device), y\u001b[39m.\u001b[39mto(device)\n\u001b[1;32m     44\u001b[0m \u001b[39m# 1. Forward pass\u001b[39;00m\n\u001b[0;32m---> 45\u001b[0m y_pred \u001b[39m=\u001b[39m model(X)\n\u001b[1;32m     47\u001b[0m \u001b[39m# 2. Calculate  and accumulate loss\u001b[39;00m\n\u001b[1;32m     48\u001b[0m loss \u001b[39m=\u001b[39m loss_fn(y_pred, y)\n",
      "File \u001b[0;32m~/miniconda3/lib/python3.10/site-packages/torch/nn/modules/module.py:1501\u001b[0m, in \u001b[0;36mModule._call_impl\u001b[0;34m(self, *args, **kwargs)\u001b[0m\n\u001b[1;32m   1496\u001b[0m \u001b[39m# If we don't have any hooks, we want to skip the rest of the logic in\u001b[39;00m\n\u001b[1;32m   1497\u001b[0m \u001b[39m# this function, and just call forward.\u001b[39;00m\n\u001b[1;32m   1498\u001b[0m \u001b[39mif\u001b[39;00m \u001b[39mnot\u001b[39;00m (\u001b[39mself\u001b[39m\u001b[39m.\u001b[39m_backward_hooks \u001b[39mor\u001b[39;00m \u001b[39mself\u001b[39m\u001b[39m.\u001b[39m_backward_pre_hooks \u001b[39mor\u001b[39;00m \u001b[39mself\u001b[39m\u001b[39m.\u001b[39m_forward_hooks \u001b[39mor\u001b[39;00m \u001b[39mself\u001b[39m\u001b[39m.\u001b[39m_forward_pre_hooks\n\u001b[1;32m   1499\u001b[0m         \u001b[39mor\u001b[39;00m _global_backward_pre_hooks \u001b[39mor\u001b[39;00m _global_backward_hooks\n\u001b[1;32m   1500\u001b[0m         \u001b[39mor\u001b[39;00m _global_forward_hooks \u001b[39mor\u001b[39;00m _global_forward_pre_hooks):\n\u001b[0;32m-> 1501\u001b[0m     \u001b[39mreturn\u001b[39;00m forward_call(\u001b[39m*\u001b[39;49margs, \u001b[39m*\u001b[39;49m\u001b[39m*\u001b[39;49mkwargs)\n\u001b[1;32m   1502\u001b[0m \u001b[39m# Do not call functions when jit is used\u001b[39;00m\n\u001b[1;32m   1503\u001b[0m full_backward_hooks, non_full_backward_hooks \u001b[39m=\u001b[39m [], []\n",
      "File \u001b[0;32m~/miniconda3/lib/python3.10/site-packages/torchvision/models/efficientnet.py:343\u001b[0m, in \u001b[0;36mEfficientNet.forward\u001b[0;34m(self, x)\u001b[0m\n\u001b[1;32m    342\u001b[0m \u001b[39mdef\u001b[39;00m \u001b[39mforward\u001b[39m(\u001b[39mself\u001b[39m, x: Tensor) \u001b[39m-\u001b[39m\u001b[39m>\u001b[39m Tensor:\n\u001b[0;32m--> 343\u001b[0m     \u001b[39mreturn\u001b[39;00m \u001b[39mself\u001b[39;49m\u001b[39m.\u001b[39;49m_forward_impl(x)\n",
      "File \u001b[0;32m~/miniconda3/lib/python3.10/site-packages/torchvision/models/efficientnet.py:338\u001b[0m, in \u001b[0;36mEfficientNet._forward_impl\u001b[0;34m(self, x)\u001b[0m\n\u001b[1;32m    335\u001b[0m x \u001b[39m=\u001b[39m \u001b[39mself\u001b[39m\u001b[39m.\u001b[39mavgpool(x)\n\u001b[1;32m    336\u001b[0m x \u001b[39m=\u001b[39m torch\u001b[39m.\u001b[39mflatten(x, \u001b[39m1\u001b[39m)\n\u001b[0;32m--> 338\u001b[0m x \u001b[39m=\u001b[39m \u001b[39mself\u001b[39;49m\u001b[39m.\u001b[39;49mclassifier(x)\n\u001b[1;32m    340\u001b[0m \u001b[39mreturn\u001b[39;00m x\n",
      "File \u001b[0;32m~/miniconda3/lib/python3.10/site-packages/torch/nn/modules/module.py:1501\u001b[0m, in \u001b[0;36mModule._call_impl\u001b[0;34m(self, *args, **kwargs)\u001b[0m\n\u001b[1;32m   1496\u001b[0m \u001b[39m# If we don't have any hooks, we want to skip the rest of the logic in\u001b[39;00m\n\u001b[1;32m   1497\u001b[0m \u001b[39m# this function, and just call forward.\u001b[39;00m\n\u001b[1;32m   1498\u001b[0m \u001b[39mif\u001b[39;00m \u001b[39mnot\u001b[39;00m (\u001b[39mself\u001b[39m\u001b[39m.\u001b[39m_backward_hooks \u001b[39mor\u001b[39;00m \u001b[39mself\u001b[39m\u001b[39m.\u001b[39m_backward_pre_hooks \u001b[39mor\u001b[39;00m \u001b[39mself\u001b[39m\u001b[39m.\u001b[39m_forward_hooks \u001b[39mor\u001b[39;00m \u001b[39mself\u001b[39m\u001b[39m.\u001b[39m_forward_pre_hooks\n\u001b[1;32m   1499\u001b[0m         \u001b[39mor\u001b[39;00m _global_backward_pre_hooks \u001b[39mor\u001b[39;00m _global_backward_hooks\n\u001b[1;32m   1500\u001b[0m         \u001b[39mor\u001b[39;00m _global_forward_hooks \u001b[39mor\u001b[39;00m _global_forward_pre_hooks):\n\u001b[0;32m-> 1501\u001b[0m     \u001b[39mreturn\u001b[39;00m forward_call(\u001b[39m*\u001b[39;49margs, \u001b[39m*\u001b[39;49m\u001b[39m*\u001b[39;49mkwargs)\n\u001b[1;32m   1502\u001b[0m \u001b[39m# Do not call functions when jit is used\u001b[39;00m\n\u001b[1;32m   1503\u001b[0m full_backward_hooks, non_full_backward_hooks \u001b[39m=\u001b[39m [], []\n",
      "File \u001b[0;32m~/miniconda3/lib/python3.10/site-packages/torch/nn/modules/container.py:217\u001b[0m, in \u001b[0;36mSequential.forward\u001b[0;34m(self, input)\u001b[0m\n\u001b[1;32m    215\u001b[0m \u001b[39mdef\u001b[39;00m \u001b[39mforward\u001b[39m(\u001b[39mself\u001b[39m, \u001b[39minput\u001b[39m):\n\u001b[1;32m    216\u001b[0m     \u001b[39mfor\u001b[39;00m module \u001b[39min\u001b[39;00m \u001b[39mself\u001b[39m:\n\u001b[0;32m--> 217\u001b[0m         \u001b[39minput\u001b[39m \u001b[39m=\u001b[39m module(\u001b[39minput\u001b[39;49m)\n\u001b[1;32m    218\u001b[0m     \u001b[39mreturn\u001b[39;00m \u001b[39minput\u001b[39m\n",
      "File \u001b[0;32m~/miniconda3/lib/python3.10/site-packages/torch/nn/modules/module.py:1501\u001b[0m, in \u001b[0;36mModule._call_impl\u001b[0;34m(self, *args, **kwargs)\u001b[0m\n\u001b[1;32m   1496\u001b[0m \u001b[39m# If we don't have any hooks, we want to skip the rest of the logic in\u001b[39;00m\n\u001b[1;32m   1497\u001b[0m \u001b[39m# this function, and just call forward.\u001b[39;00m\n\u001b[1;32m   1498\u001b[0m \u001b[39mif\u001b[39;00m \u001b[39mnot\u001b[39;00m (\u001b[39mself\u001b[39m\u001b[39m.\u001b[39m_backward_hooks \u001b[39mor\u001b[39;00m \u001b[39mself\u001b[39m\u001b[39m.\u001b[39m_backward_pre_hooks \u001b[39mor\u001b[39;00m \u001b[39mself\u001b[39m\u001b[39m.\u001b[39m_forward_hooks \u001b[39mor\u001b[39;00m \u001b[39mself\u001b[39m\u001b[39m.\u001b[39m_forward_pre_hooks\n\u001b[1;32m   1499\u001b[0m         \u001b[39mor\u001b[39;00m _global_backward_pre_hooks \u001b[39mor\u001b[39;00m _global_backward_hooks\n\u001b[1;32m   1500\u001b[0m         \u001b[39mor\u001b[39;00m _global_forward_hooks \u001b[39mor\u001b[39;00m _global_forward_pre_hooks):\n\u001b[0;32m-> 1501\u001b[0m     \u001b[39mreturn\u001b[39;00m forward_call(\u001b[39m*\u001b[39;49margs, \u001b[39m*\u001b[39;49m\u001b[39m*\u001b[39;49mkwargs)\n\u001b[1;32m   1502\u001b[0m \u001b[39m# Do not call functions when jit is used\u001b[39;00m\n\u001b[1;32m   1503\u001b[0m full_backward_hooks, non_full_backward_hooks \u001b[39m=\u001b[39m [], []\n",
      "File \u001b[0;32m~/miniconda3/lib/python3.10/site-packages/torch/nn/modules/linear.py:114\u001b[0m, in \u001b[0;36mLinear.forward\u001b[0;34m(self, input)\u001b[0m\n\u001b[1;32m    113\u001b[0m \u001b[39mdef\u001b[39;00m \u001b[39mforward\u001b[39m(\u001b[39mself\u001b[39m, \u001b[39minput\u001b[39m: Tensor) \u001b[39m-\u001b[39m\u001b[39m>\u001b[39m Tensor:\n\u001b[0;32m--> 114\u001b[0m     \u001b[39mreturn\u001b[39;00m F\u001b[39m.\u001b[39;49mlinear(\u001b[39minput\u001b[39;49m, \u001b[39mself\u001b[39;49m\u001b[39m.\u001b[39;49mweight, \u001b[39mself\u001b[39;49m\u001b[39m.\u001b[39;49mbias)\n",
      "\u001b[0;31mRuntimeError\u001b[0m: mat1 and mat2 shapes cannot be multiplied (64x1280 and 256x10)"
     ]
    }
   ],
   "source": [
    "# Set the random seeds\n",
    "torch.manual_seed(42)\n",
    "torch.cuda.manual_seed(42)\n",
    "\n",
    "# Start the timer\n",
    "from timeit import default_timer as timer \n",
    "start_time = timer()\n",
    "\n",
    "# Setup training and save the results\n",
    "results = engine.train(model=model,\n",
    "                       train_dataloader=train_dataloader,\n",
    "                       test_dataloader=test_dataloader,\n",
    "                       optimizer=optimizer,\n",
    "                       loss_fn=loss_fn,\n",
    "                       epochs=5,\n",
    "                       device=device)\n",
    "\n",
    "# End the timer and print out how long it took\n",
    "end_time = timer()\n",
    "print(f\"[INFO] Total training time: {end_time-start_time:.3f} seconds\")"
   ]
  },
  {
   "cell_type": "code",
   "execution_count": null,
   "metadata": {},
   "outputs": [],
   "source": [
    "#using class from previous MNIST example in info3000 - need to use it to combine the csv file data with the actual picture\n",
    "# also need to normalize data \n",
    "class MNIST():\n",
    "\n",
    "    def __init__(self, dataset, dir):\n",
    "        self.dataset = dataset\n",
    "        self.dir = dir\n",
    "\n",
    "    def __len__(self):\n",
    "        return len(self.dataset)\n",
    "\n",
    "\n",
    "    def __getitem__(self, idx):\n",
    "        img_name = os.path.join(self.dir, self.dataset.iloc[idx, 0])\n",
    "        img = cv2.imread(img_name, cv2.IMREAD_GRAYSCALE)\n",
    "        label = self.dataset.iloc[idx, 1]\n",
    "        #img = io.imread(img)\n",
    "        \n",
    "        #img = img[:,:,:1] # Read a single channel only\n",
    "    \n",
    "        #img = img/255.0   # Normalize or Feature Scale data\n",
    "        #img = np.moveaxis(img,2,0)\n",
    "        # normalize\n",
    "        img = cv2.resize(img, (32, 32))\n",
    "        img = img / 255.0 # Normalize or Feature Scale data\n",
    "        img = torch.unsqueeze(torch.FloatTensor(img), 0)  \n",
    "        label = torch.tensor(int(label))  # Convert label to a tensor\n",
    "\n",
    "        return img, label"
   ]
  }
 ],
 "metadata": {
  "kernelspec": {
   "display_name": "base",
   "language": "python",
   "name": "python3"
  },
  "language_info": {
   "codemirror_mode": {
    "name": "ipython",
    "version": 3
   },
   "file_extension": ".py",
   "mimetype": "text/x-python",
   "name": "python",
   "nbconvert_exporter": "python",
   "pygments_lexer": "ipython3",
   "version": "3.10.8"
  },
  "orig_nbformat": 4
 },
 "nbformat": 4,
 "nbformat_minor": 2
}
