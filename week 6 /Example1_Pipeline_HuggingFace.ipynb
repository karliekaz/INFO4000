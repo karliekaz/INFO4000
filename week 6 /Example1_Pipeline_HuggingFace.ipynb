{
 "cells": [
  {
   "cell_type": "markdown",
   "id": "36b9189c-a9cf-40c1-86c7-4be0855e7834",
   "metadata": {},
   "source": [
    "### Examples to demonstrate the use of Pipelines from HuggingFace ###"
   ]
  },
  {
   "cell_type": "code",
   "execution_count": null,
   "id": "9d27fcd6-cfb9-41c3-8b97-01d1420b1164",
   "metadata": {
    "jupyter": {
     "source_hidden": true
    },
    "tags": []
   },
   "outputs": [],
   "source": [
    "from transformers import pipeline "
   ]
  },
  {
   "cell_type": "markdown",
   "id": "0e040da3-3591-44cb-9fef-5cfa72fe6145",
   "metadata": {
    "jupyter": {
     "source_hidden": true
    },
    "tags": []
   },
   "source": [
    "#### Fill \"Mask\" task ####"
   ]
  },
  {
   "cell_type": "code",
   "execution_count": null,
   "id": "dfaf032a-bc42-441f-b923-76df594967c4",
   "metadata": {
    "jupyter": {
     "source_hidden": true
    },
    "tags": []
   },
   "outputs": [],
   "source": [
    "# Specifying the pipeline\n",
    "bert_unmasker = pipeline('fill-mask', model=\"bert-base-uncased\")\n",
    "text = \"I have to wake up in the morning and [MASK] a doctor\"\n",
    "result = bert_unmasker(text)\n",
    "for r in result:\n",
    "    print(r)"
   ]
  },
  {
   "cell_type": "code",
   "execution_count": null,
   "id": "a5938936-457c-4279-8d28-537e81932558",
   "metadata": {
    "jupyter": {
     "source_hidden": true
    },
    "tags": []
   },
   "outputs": [],
   "source": [
    "# Sentiment analysis example\n",
    "\n",
    "# By default, this pipeline selects a particular pretrained model that has been fine-tuned for sentiment analysis in English. # # The model is downloaded and cached when you create the classifier object. \n",
    "# If you rerun the command, the cached model will be used instead and there is no need to download the model again.\n",
    "\n",
    "classifier = pipeline(\"sentiment-analysis\")\n",
    "classifier(\"I've been waiting for a HuggingFace course my whole life.\")"
   ]
  },
  {
   "cell_type": "code",
   "execution_count": null,
   "id": "b5b39b99-c957-498b-b783-26c053ab9205",
   "metadata": {
    "jupyter": {
     "source_hidden": true
    },
    "tags": []
   },
   "outputs": [],
   "source": [
    "# We can even pass several sentences\n",
    "\n",
    "classifier(\n",
    "    [\"I've been waiting for a HuggingFace course my whole life.\", \"I hate this so much!\"]\n",
    ")"
   ]
  },
  {
   "cell_type": "markdown",
   "id": "afdfc57b-e468-4a25-8e96-3a195d7576ca",
   "metadata": {
    "jupyter": {
     "source_hidden": true
    },
    "tags": []
   },
   "source": [
    "#### Zero-shot classification - Task where we need to classify texts that haven’t been labelled ####\n",
    "\n",
    " * This is a common scenario in real-world projects because annotating text is usually time-consuming and requires domain expertise. \n",
    " \n",
    " * For this use case, the zero-shot-classification pipeline is very powerful: it allows you to specify which labels to use for the classification, so you don’t have to rely on the labels of the pretrained model.  \n",
    " \n",
    " * You’ve already seen how the model can classify a sentence as positive or negative using those two labels — but it can also classify the text using any other set of labels you like.\n",
    " \n",
    " * This pipeline is called zero-shot because you don’t need to fine-tune the model on your data to use it. It can directly return probability scores for any list of labels you want!"
   ]
  },
  {
   "cell_type": "code",
   "execution_count": null,
   "id": "694d9531-7b69-48b9-80e2-6ff17d69a697",
   "metadata": {
    "jupyter": {
     "source_hidden": true
    },
    "tags": []
   },
   "outputs": [],
   "source": [
    "# Zero shot classification\n",
    "\n",
    "classifier = pipeline(\"zero-shot-classification\")\n",
    "classifier(\n",
    "    \"This is a course about the Transformers library\",\n",
    "    candidate_labels=[\"education\", \"politics\", \"business\"],\n",
    ")"
   ]
  },
  {
   "cell_type": "markdown",
   "id": "09fd1d04-5836-4e1e-ae61-1686c44dbba4",
   "metadata": {
    "jupyter": {
     "source_hidden": true
    },
    "tags": []
   },
   "source": [
    "#### Text generation ####\n",
    "\n",
    "* The main idea here is that you provide a prompt and the model will auto-complete it by generating the remaining text. \n",
    "\n",
    "* This is similar to the predictive text feature that is found on many phones. \n",
    "\n",
    "* Text generation involves randomness, so it’s normal if you don’t get the same results as shown below.\n",
    "\n",
    "* You can control how many different sequences are generated with the argument num_return_sequences and the total length of the output text with the argument max_length."
   ]
  },
  {
   "cell_type": "code",
   "execution_count": null,
   "id": "08c074f6-2121-49bf-9579-a3b2dac80ef2",
   "metadata": {
    "jupyter": {
     "source_hidden": true
    },
    "tags": []
   },
   "outputs": [],
   "source": [
    "# Text Generation\n",
    "\n",
    "generator = pipeline(\"text-generation\")\n",
    "generator(\"In this course, we will teach you how to\")"
   ]
  },
  {
   "cell_type": "markdown",
   "id": "4a22429d-4957-45e7-a2b1-b80809ee31b1",
   "metadata": {
    "jupyter": {
     "source_hidden": true
    },
    "tags": []
   },
   "source": [
    "#### Using any model from the Hub in a pipeline ####\n",
    "\n",
    "* The previous examples used the default model for the task at hand, but you can also choose a particular model from the Hub to use in a pipeline for a specific task — say, text generation. \n",
    "\n",
    "* Go to the Model Hub and click on the corresponding tag on the left to display only the supported models for that task.<br>\n",
    "https://huggingface.co/models"
   ]
  },
  {
   "cell_type": "code",
   "execution_count": null,
   "id": "1ae351aa-97ff-46f1-9d68-d2f304bf6048",
   "metadata": {
    "jupyter": {
     "source_hidden": true
    },
    "tags": []
   },
   "outputs": [],
   "source": [
    "generator = pipeline(\"text-generation\", model=\"distilgpt2\")\n",
    "generator(\n",
    "    \"In this course, we will teach you how to\",\n",
    "    max_length=30,\n",
    "    num_return_sequences=2,\n",
    ")"
   ]
  },
  {
   "cell_type": "markdown",
   "id": "36ceb3af-fbed-4478-a269-c6c4fde48be2",
   "metadata": {
    "jupyter": {
     "source_hidden": true
    },
    "tags": []
   },
   "source": [
    "#### Named entity recognition ####\n",
    "\n",
    "Named entity recognition (NER) is a task where the model has to find which parts of the input text correspond to entities such as persons, locations, or organizations. "
   ]
  },
  {
   "cell_type": "code",
   "execution_count": null,
   "id": "c58cc0c6-b8a0-488e-b305-0bc2d87c3717",
   "metadata": {
    "jupyter": {
     "source_hidden": true
    },
    "tags": []
   },
   "outputs": [],
   "source": [
    "ner = pipeline(\"ner\", grouped_entities=True)\n",
    "ner(\"My name is Sylvain and I work at Hugging Face in Brooklyn.\")"
   ]
  },
  {
   "cell_type": "markdown",
   "id": "92b1e2ec-e1c2-4fef-a271-315b975e8276",
   "metadata": {
    "jupyter": {
     "source_hidden": true
    },
    "tags": []
   },
   "source": [
    "#### Summarization ####\n",
    "\n",
    "Summarization is the task of reducing a text into a shorter text while keeping all (or most) of the important aspects referenced in the text. "
   ]
  },
  {
   "cell_type": "code",
   "execution_count": null,
   "id": "c7bbc4f0-8303-4455-bbae-bf371ac4ab49",
   "metadata": {
    "jupyter": {
     "source_hidden": true
    },
    "tags": []
   },
   "outputs": [],
   "source": [
    "summarizer = pipeline(\"summarization\")\n",
    "summarizer(\n",
    "    \"\"\"\n",
    "    Europe is the second-smallest continent. The name Europe, or Europa, is believed to be of Greek origin, as it is the name of a princess in Greek mythology. The name Europe may also come from combining the Greek roots eur- (wide) and -op (seeing) to form the phrase “wide-gazing.”\n",
    "\n",
    "Europe is often described as a “peninsula of peninsulas.” A peninsula is a piece of land surrounded by water on three sides. Europe is a peninsula of the Eurasian supercontinent and is bordered by the Arctic Ocean to the north, the Atlantic Ocean to the west, and the Mediterranean, Black, and Caspian seas to the south.\n",
    "\n",
    "Europe’s main peninsulas are the Iberian, Italian, and Balkan, located in southern Europe, and the Scandinavian and Jutland, located in northern Europe. The link between these peninsulas has made Europe a dominant economic, social, and cultural force throughout recorded history.\n",
    "\"\"\"\n",
    ")"
   ]
  },
  {
   "cell_type": "markdown",
   "id": "a842a58b-9c87-457f-8c5f-8ca13b5e8f95",
   "metadata": {
    "jupyter": {
     "source_hidden": true
    },
    "tags": []
   },
   "source": [
    "#### Translation ####\n",
    "\n",
    "* For translation, you can use a default model if you provide a language pair in the task name (such as \"translation_en_to_fr\"), \n",
    "\n",
    "* but the easiest way is to pick the model you want to use on the Model Hub. \n",
    "\n",
    "* Here we’ll try translating from French to English"
   ]
  },
  {
   "cell_type": "code",
   "execution_count": null,
   "id": "7aa8cafc-1e44-4e3c-944d-3d21ebae2d5b",
   "metadata": {
    "jupyter": {
     "source_hidden": true
    },
    "tags": []
   },
   "outputs": [],
   "source": [
    "translator = pipeline(\"translation\", model=\"Helsinki-NLP/opus-mt-fr-en\")\n",
    "translator(\"Ce cours est produit par Hugging Face.\")"
   ]
  },
  {
   "cell_type": "code",
   "execution_count": null,
   "id": "005b263a-99c4-45c4-a858-70f8d5cf97d2",
   "metadata": {},
   "outputs": [],
   "source": []
  }
 ],
 "metadata": {
  "kernelspec": {
   "display_name": "ml",
   "language": "python",
   "name": "ml"
  },
  "language_info": {
   "codemirror_mode": {
    "name": "ipython",
    "version": 3
   },
   "file_extension": ".py",
   "mimetype": "text/x-python",
   "name": "python",
   "nbconvert_exporter": "python",
   "pygments_lexer": "ipython3",
   "version": "3.10.12"
  }
 },
 "nbformat": 4,
 "nbformat_minor": 5
}
