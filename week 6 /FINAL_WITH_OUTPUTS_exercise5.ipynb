{
 "cells": [
  {
   "cell_type": "code",
   "execution_count": 1,
   "metadata": {},
   "outputs": [],
   "source": [
    "import matplotlib.pyplot as plt\n",
    "import torch\n",
    "import torchvision\n",
    "from torch import nn\n",
    "from torchvision import transforms\n",
    "from torchinfo import summary"
   ]
  },
  {
   "cell_type": "code",
   "execution_count": 2,
   "metadata": {},
   "outputs": [],
   "source": [
    "import os\n",
    "import zipfile\n",
    "import shutil\n",
    "import pandas as pd\n",
    "from pathlib import Path\n",
    "\n",
    "import requests\n",
    "from helper_functions import set_seeds\n",
    "from torchvision.models import resnet18, ResNet18_Weights"
   ]
  },
  {
   "cell_type": "code",
   "execution_count": 3,
   "metadata": {},
   "outputs": [],
   "source": [
    "from skimage import io,transform\n",
    "from matplotlib import pyplot as plt\n",
    "import torch.optim as optim\n",
    "import numpy as np"
   ]
  },
  {
   "cell_type": "code",
   "execution_count": 4,
   "metadata": {},
   "outputs": [],
   "source": [
    "from torchvision.io import read_image"
   ]
  },
  {
   "cell_type": "code",
   "execution_count": 5,
   "metadata": {},
   "outputs": [
    {
     "data": {
      "text/plain": [
       "'cpu'"
      ]
     },
     "execution_count": 5,
     "metadata": {},
     "output_type": "execute_result"
    }
   ],
   "source": [
    "# Setup device agnostic code\n",
    "device = \"cuda\" if torch.cuda.is_available() else \"cpu\"\n",
    "device"
   ]
  },
  {
   "cell_type": "code",
   "execution_count": 6,
   "metadata": {},
   "outputs": [],
   "source": [
    "# Setup path to data folder\n",
    "data_path = Path(\"Mnist_Image_Data/\")\n",
    "\n",
    "train_dir = data_path / \"Images\" / \"train\"\n",
    "test_dir = data_path / \"Images\"/ \"test\""
   ]
  },
  {
   "cell_type": "code",
   "execution_count": 7,
   "metadata": {},
   "outputs": [],
   "source": [
    "# Initializing model with the default (best) available weights\n",
    "# chose resnet 18 since it is generally simple and faster to train - I tried other models but it took way too long to train the model \n",
    "weights = ResNet18_Weights.DEFAULT\n",
    "model = resnet18(weights=weights)\n",
    "model.eval()\n",
    "preprocess = weights.transforms()"
   ]
  },
  {
   "cell_type": "code",
   "execution_count": 8,
   "metadata": {},
   "outputs": [
    {
     "name": "stdout",
     "output_type": "stream",
     "text": [
      "ImageClassification(\n",
      "    crop_size=[224]\n",
      "    resize_size=[256]\n",
      "    mean=[0.485, 0.456, 0.406]\n",
      "    std=[0.229, 0.224, 0.225]\n",
      "    interpolation=InterpolationMode.BILINEAR\n",
      ")\n"
     ]
    }
   ],
   "source": [
    "print(preprocess)"
   ]
  },
  {
   "cell_type": "code",
   "execution_count": 9,
   "metadata": {},
   "outputs": [],
   "source": [
    "#Freeze the base parameters\n",
    "# freeze all layers so that the model can be used for MNIST dataset - freezing speeds up the training process and prevents overfitting \n",
    "for parameter in model.parameters():\n",
    "    parameter.requires_grad = False"
   ]
  },
  {
   "cell_type": "code",
   "execution_count": 10,
   "metadata": {},
   "outputs": [],
   "source": [
    "#need to modify the connected layer so that the model adjusts for the 10 class outputs \n",
    "model.fc = nn.Linear(model.fc.in_features, 10)\n",
    "model.conv1 = nn.Conv2d(1, 64, kernel_size=5, stride=1, padding=3, bias=False)"
   ]
  },
  {
   "cell_type": "code",
   "execution_count": 11,
   "metadata": {},
   "outputs": [],
   "source": [
    "\n",
    "import os\n",
    "from PIL import Image"
   ]
  },
  {
   "cell_type": "code",
   "execution_count": 12,
   "metadata": {},
   "outputs": [],
   "source": [
    "\n",
    "\n",
    "#using class from previous MNIST example in info3000 - need to use it to combine the csv file data with the actual picture\n",
    "# also need to normalize data \n",
    "class MNIST():\n",
    "\n",
    "    def __init__(self, dataset, dir, transform=None):\n",
    "        self.dataset = dataset\n",
    "        self.dir = dir\n",
    "        self.transform = transform\n",
    "\n",
    "    def __len__(self):\n",
    "        return len(self.dataset)\n",
    "\n",
    "\n",
    "    def __getitem__(self, idx):\n",
    "        img_name = os.path.join(self.dir, self.dataset.iloc[idx, 0]) \n",
    "        img = Image.open(img_name).convert('L')  # Open image in grayscale mode\n",
    "\n",
    "        label = self.dataset.iloc[idx, 1]\n",
    "\n",
    "        # Resizing\n",
    "        img = img.resize((32, 32))\n",
    "\n",
    "        # Applying the transform (if provided)\n",
    "        if self.transform:\n",
    "            img = self.transform(img)\n",
    "\n",
    "        img = transforms.ToTensor()(img)\n",
    "        label = torch.tensor(int(label))\n",
    "\n",
    "        return img, label\n",
    "\n",
    "\n"
   ]
  },
  {
   "cell_type": "code",
   "execution_count": 13,
   "metadata": {},
   "outputs": [
    {
     "name": "stdout",
     "output_type": "stream",
     "text": [
      "49000 100\n"
     ]
    }
   ],
   "source": [
    "dataset_path_train = 'Mnist_Image_Data/train.csv'\n",
    "dataset_path_test = 'Mnist_Image_Data/test.csv'\n",
    "\n",
    "train_csv = pd.read_csv(dataset_path_train)\n",
    "test_csv = pd.read_csv(dataset_path_test)\n",
    "\n",
    "train_data = MNIST(dataset=train_csv, dir=train_dir)\n",
    "test_data = MNIST(dataset=test_csv, dir=test_dir)\n",
    "\n",
    "print(train_data.__len__(),test_data.__len__())  "
   ]
  },
  {
   "cell_type": "code",
   "execution_count": 14,
   "metadata": {},
   "outputs": [],
   "source": [
    "from skimage import io,transform\n",
    "from skimage.color import rgb2gray\n",
    "from matplotlib import pyplot as plt"
   ]
  },
  {
   "cell_type": "code",
   "execution_count": 15,
   "metadata": {},
   "outputs": [
    {
     "name": "stdout",
     "output_type": "stream",
     "text": [
      "<class 'torch.Tensor'>\n",
      "Shape of Imagetorch.Size([1, 32, 32]) datatype iamge: <class 'torch.Tensor'> datalabel: <class 'torch.Tensor'>\n",
      "(32, 32)\n",
      "torch.Size([])\n"
     ]
    },
    {
     "data": {
      "image/png": "[encoded data removed]",
      "text/plain": [
       "<Figure size 640x480 with 1 Axes>"
      ]
     },
     "metadata": {},
     "output_type": "display_data"
    }
   ],
   "source": [
    "#used this from INFO3000 example using MNIST \n",
    "\n",
    "# Get image from dataset\n",
    "image1,label1 = train_data.__getitem__(1000)\n",
    "print(type(label1))\n",
    "print(f\"Shape of Image{image1.shape} datatype iamge: {type(image1)} datalabel: {type(label1)}\")\n",
    "image1 = (image1.numpy()).reshape(32,32)\n",
    "\n",
    "# Check the shape of the image\n",
    "print(image1.shape)\n",
    "print(label1.shape)\n",
    "\n",
    "# Display image\n",
    "io.imshow(image1)\n",
    "plt.show()"
   ]
  },
  {
   "cell_type": "code",
   "execution_count": 16,
   "metadata": {},
   "outputs": [],
   "source": [
    "#dataloaders\n",
    "train_dataloader = torch.utils.data.DataLoader(train_data, batch_size=64, shuffle=True)\n",
    "test_dataloader = torch.utils.data.DataLoader(test_data, batch_size=64, shuffle=False)\n"
   ]
  },
  {
   "cell_type": "code",
   "execution_count": 17,
   "metadata": {},
   "outputs": [],
   "source": [
    "criterion = nn.CrossEntropyLoss()\n",
    "optimizer = optim.Adam(model.fc.parameters(), lr=0.0001)"
   ]
  },
  {
   "cell_type": "code",
   "execution_count": 18,
   "metadata": {},
   "outputs": [],
   "source": [
    "# Training loop\n",
    "num_epochs = 1\n",
    "for epoch in range(num_epochs):\n",
    "    model.train()\n",
    "    for images, labels in train_dataloader:\n",
    "        \n",
    "        images, labels = images.to(device), labels.to(device)\n",
    "        optimizer.zero_grad()\n",
    "        outputs = model(images)\n",
    "        loss = criterion(outputs, labels)\n",
    "        loss.backward()\n",
    "        optimizer.step()\n",
    "    print(f'Epoch [{epoch + 1}/{num_epochs}], Loss: {loss.item():.4f}')"
   ]
  },
  {
   "cell_type": "code",
   "execution_count": null,
   "metadata": {},
   "outputs": [
    {
     "name": "stdout",
     "output_type": "stream",
     "text": [
      "Accuracy on test set: 86.0%\n"
     ]
    }
   ],
   "source": [
    "# Testing the model\n",
    "correct = 0\n",
    "total = 0\n",
    "with torch.no_grad():\n",
    "\n",
    "    for images, labels in test_dataloader:\n",
    "\n",
    "        images, labels = images.to(device), labels.to(device)\n",
    "        outputs = model(images)\n",
    "        _, predicted = torch.max(outputs.data, 1)\n",
    "        total += labels.size(0)\n",
    "        correct += (predicted == labels).sum().item()\n",
    "\n",
    "accuracy = 100 * correct / total\n",
    "print(f\"Accuracy on test set: {accuracy}%\")"
   ]
  }
 ],
 "metadata": {
  "kernelspec": {
   "display_name": "base",
   "language": "python",
   "name": "python3"
  },
  "language_info": {
   "codemirror_mode": {
    "name": "ipython",
    "version": 3
   },
   "file_extension": ".py",
   "mimetype": "text/x-python",
   "name": "python",
   "nbconvert_exporter": "python",
   "pygments_lexer": "ipython3",
   "version": "3.10.8"
  },
  "orig_nbformat": 4
 },
 "nbformat": 4,
 "nbformat_minor": 2
}
